{
  "nbformat": 4,
  "nbformat_minor": 0,
  "metadata": {
    "colab": {
      "provenance": []
    },
    "kernelspec": {
      "name": "python3",
      "display_name": "Python 3"
    },
    "language_info": {
      "name": "python"
    }
  },
  "cells": [
    {
      "cell_type": "code",
      "execution_count": null,
      "metadata": {
        "id": "HHXmozfbDFVQ"
      },
      "outputs": [],
      "source": [
        "import pandas as pd\n",
        "import numpy as np\n",
        "import matplotlib.pyplot as plt\n",
        "from sklearn.linear_model import LinearRegression\n",
        "from sklearn.preprocessing import OneHotEncoder\n",
        "import time\n"
      ]
    },
    {
      "cell_type": "code",
      "source": [
        "df = pd.read_csv('/content/rideshare_kaggle.csv')"
      ],
      "metadata": {
        "id": "u4Tyc4c4D3cD"
      },
      "execution_count": null,
      "outputs": []
    },
    {
      "cell_type": "code",
      "source": [
        "df"
      ],
      "metadata": {
        "id": "kmFXH1_fD82o",
        "colab": {
          "base_uri": "https://localhost:8080/",
          "height": 978
        },
        "outputId": "e893d255-3e02-407d-bb16-4c8cf0d7602a"
      },
      "execution_count": null,
      "outputs": [
        {
          "output_type": "execute_result",
          "data": {
            "text/plain": [
              "                                          id     timestamp  hour  day  month  \\\n",
              "0       424553bb-7174-41ea-aeb4-fe06d4f4b9d7  1.544953e+09     9   16     12   \n",
              "1       4bd23055-6827-41c6-b23b-3c491f24e74d  1.543284e+09     2   27     11   \n",
              "2       981a3613-77af-4620-a42a-0c0866077d1e  1.543367e+09     1   28     11   \n",
              "3       c2d88af2-d278-4bfd-a8d0-29ca77cc5512  1.543554e+09     4   30     11   \n",
              "4       e0126e1f-8ca9-4f2e-82b3-50505a09db9a  1.543463e+09     3   29     11   \n",
              "...                                      ...           ...   ...  ...    ...   \n",
              "142374  158fd991-03c2-42ea-8fcb-fa007d8a3265  1.545104e+09     3   18     12   \n",
              "142375  1b41de35-5722-4546-81e4-6abc6c650210  1.545104e+09     3   18     12   \n",
              "142376  28981e73-2a89-476f-8fe8-cadb69f3caad  1.543627e+09     1    1     12   \n",
              "142377  4b8eb3f2-70d4-4f06-9258-b2f02bde09f8  1.543627e+09     1    1     12   \n",
              "142378  a53606a1-5341-4d44-9592-9f972a7d4805  1.543627e+09     1    1     12   \n",
              "\n",
              "                   datetime          timezone            source  \\\n",
              "0       2018-12-16 09:30:07  America/New_York  Haymarket Square   \n",
              "1       2018-11-27 02:00:23  America/New_York  Haymarket Square   \n",
              "2       2018-11-28 01:00:22  America/New_York  Haymarket Square   \n",
              "3       2018-11-30 04:53:02  America/New_York  Haymarket Square   \n",
              "4       2018-11-29 03:49:20  America/New_York  Haymarket Square   \n",
              "...                     ...               ...               ...   \n",
              "142374  2018-12-18 03:40:06  America/New_York       Beacon Hill   \n",
              "142375  2018-12-18 03:40:06  America/New_York       Beacon Hill   \n",
              "142376  2018-12-01 01:13:06  America/New_York       Beacon Hill   \n",
              "142377  2018-12-01 01:13:06  America/New_York       Beacon Hill   \n",
              "142378  2018-12-01 01:13:06  America/New_York       Beacon Hill   \n",
              "\n",
              "          destination cab_type  ... precipIntensityMax   uvIndexTime  \\\n",
              "0       North Station     Lyft  ...             0.1276  1.544980e+09   \n",
              "1       North Station     Lyft  ...             0.1300  1.543252e+09   \n",
              "2       North Station     Lyft  ...             0.1064  1.543338e+09   \n",
              "3       North Station     Lyft  ...             0.0000  1.543507e+09   \n",
              "4       North Station     Lyft  ...             0.0001  1.543421e+09   \n",
              "...               ...      ...  ...                ...           ...   \n",
              "142374         Fenway     Uber  ...             0.0175  1.545066e+09   \n",
              "142375         Fenway     Uber  ...             0.0175  1.545066e+09   \n",
              "142376         Fenway     Uber  ...             0.0004  1.543594e+09   \n",
              "142377         Fenway     Uber  ...             0.0004  1.543594e+09   \n",
              "142378         Fenway     Uber  ...                NaN           NaN   \n",
              "\n",
              "        temperatureMin  temperatureMinTime  temperatureMax  \\\n",
              "0                39.89        1.545012e+09           43.68   \n",
              "1                40.49        1.543234e+09           47.30   \n",
              "2                35.36        1.543378e+09           47.55   \n",
              "3                34.67        1.543550e+09           45.03   \n",
              "4                33.10        1.543403e+09           42.18   \n",
              "...                ...                 ...             ...   \n",
              "142374           34.14        1.545044e+09           41.44   \n",
              "142375           34.14        1.545044e+09           41.44   \n",
              "142376           28.42        1.543579e+09           42.05   \n",
              "142377           28.42        1.543579e+09           42.05   \n",
              "142378             NaN                 NaN             NaN   \n",
              "\n",
              "        temperatureMaxTime  apparentTemperatureMin  \\\n",
              "0             1.544969e+09                   33.73   \n",
              "1             1.543252e+09                   36.20   \n",
              "2             1.543320e+09                   31.04   \n",
              "3             1.543511e+09                   30.30   \n",
              "4             1.543421e+09                   29.11   \n",
              "...                    ...                     ...   \n",
              "142374        1.545077e+09                   28.12   \n",
              "142375        1.545077e+09                   28.12   \n",
              "142376        1.543601e+09                   29.07   \n",
              "142377        1.543601e+09                   29.07   \n",
              "142378                 NaN                     NaN   \n",
              "\n",
              "        apparentTemperatureMinTime  apparentTemperatureMax  \\\n",
              "0                     1.545012e+09                   38.07   \n",
              "1                     1.543291e+09                   43.92   \n",
              "2                     1.543378e+09                   44.12   \n",
              "3                     1.543550e+09                   38.53   \n",
              "4                     1.543392e+09                   35.75   \n",
              "...                            ...                     ...   \n",
              "142374                1.545044e+09                   35.95   \n",
              "142375                1.545044e+09                   35.95   \n",
              "142376                1.543579e+09                   41.38   \n",
              "142377                1.543579e+09                   41.38   \n",
              "142378                         NaN                     NaN   \n",
              "\n",
              "       apparentTemperatureMaxTime  \n",
              "0                    1.544958e+09  \n",
              "1                    1.543252e+09  \n",
              "2                    1.543320e+09  \n",
              "3                    1.543511e+09  \n",
              "4                    1.543421e+09  \n",
              "...                           ...  \n",
              "142374               1.545077e+09  \n",
              "142375               1.545077e+09  \n",
              "142376               1.543601e+09  \n",
              "142377               1.543601e+09  \n",
              "142378                        NaN  \n",
              "\n",
              "[142379 rows x 57 columns]"
            ],
            "text/html": [
              "\n",
              "  <div id=\"df-2c1ab898-02d3-4159-b20b-f6849e945f9d\">\n",
              "    <div class=\"colab-df-container\">\n",
              "      <div>\n",
              "<style scoped>\n",
              "    .dataframe tbody tr th:only-of-type {\n",
              "        vertical-align: middle;\n",
              "    }\n",
              "\n",
              "    .dataframe tbody tr th {\n",
              "        vertical-align: top;\n",
              "    }\n",
              "\n",
              "    .dataframe thead th {\n",
              "        text-align: right;\n",
              "    }\n",
              "</style>\n",
              "<table border=\"1\" class=\"dataframe\">\n",
              "  <thead>\n",
              "    <tr style=\"text-align: right;\">\n",
              "      <th></th>\n",
              "      <th>id</th>\n",
              "      <th>timestamp</th>\n",
              "      <th>hour</th>\n",
              "      <th>day</th>\n",
              "      <th>month</th>\n",
              "      <th>datetime</th>\n",
              "      <th>timezone</th>\n",
              "      <th>source</th>\n",
              "      <th>destination</th>\n",
              "      <th>cab_type</th>\n",
              "      <th>...</th>\n",
              "      <th>precipIntensityMax</th>\n",
              "      <th>uvIndexTime</th>\n",
              "      <th>temperatureMin</th>\n",
              "      <th>temperatureMinTime</th>\n",
              "      <th>temperatureMax</th>\n",
              "      <th>temperatureMaxTime</th>\n",
              "      <th>apparentTemperatureMin</th>\n",
              "      <th>apparentTemperatureMinTime</th>\n",
              "      <th>apparentTemperatureMax</th>\n",
              "      <th>apparentTemperatureMaxTime</th>\n",
              "    </tr>\n",
              "  </thead>\n",
              "  <tbody>\n",
              "    <tr>\n",
              "      <th>0</th>\n",
              "      <td>424553bb-7174-41ea-aeb4-fe06d4f4b9d7</td>\n",
              "      <td>1.544953e+09</td>\n",
              "      <td>9</td>\n",
              "      <td>16</td>\n",
              "      <td>12</td>\n",
              "      <td>2018-12-16 09:30:07</td>\n",
              "      <td>America/New_York</td>\n",
              "      <td>Haymarket Square</td>\n",
              "      <td>North Station</td>\n",
              "      <td>Lyft</td>\n",
              "      <td>...</td>\n",
              "      <td>0.1276</td>\n",
              "      <td>1.544980e+09</td>\n",
              "      <td>39.89</td>\n",
              "      <td>1.545012e+09</td>\n",
              "      <td>43.68</td>\n",
              "      <td>1.544969e+09</td>\n",
              "      <td>33.73</td>\n",
              "      <td>1.545012e+09</td>\n",
              "      <td>38.07</td>\n",
              "      <td>1.544958e+09</td>\n",
              "    </tr>\n",
              "    <tr>\n",
              "      <th>1</th>\n",
              "      <td>4bd23055-6827-41c6-b23b-3c491f24e74d</td>\n",
              "      <td>1.543284e+09</td>\n",
              "      <td>2</td>\n",
              "      <td>27</td>\n",
              "      <td>11</td>\n",
              "      <td>2018-11-27 02:00:23</td>\n",
              "      <td>America/New_York</td>\n",
              "      <td>Haymarket Square</td>\n",
              "      <td>North Station</td>\n",
              "      <td>Lyft</td>\n",
              "      <td>...</td>\n",
              "      <td>0.1300</td>\n",
              "      <td>1.543252e+09</td>\n",
              "      <td>40.49</td>\n",
              "      <td>1.543234e+09</td>\n",
              "      <td>47.30</td>\n",
              "      <td>1.543252e+09</td>\n",
              "      <td>36.20</td>\n",
              "      <td>1.543291e+09</td>\n",
              "      <td>43.92</td>\n",
              "      <td>1.543252e+09</td>\n",
              "    </tr>\n",
              "    <tr>\n",
              "      <th>2</th>\n",
              "      <td>981a3613-77af-4620-a42a-0c0866077d1e</td>\n",
              "      <td>1.543367e+09</td>\n",
              "      <td>1</td>\n",
              "      <td>28</td>\n",
              "      <td>11</td>\n",
              "      <td>2018-11-28 01:00:22</td>\n",
              "      <td>America/New_York</td>\n",
              "      <td>Haymarket Square</td>\n",
              "      <td>North Station</td>\n",
              "      <td>Lyft</td>\n",
              "      <td>...</td>\n",
              "      <td>0.1064</td>\n",
              "      <td>1.543338e+09</td>\n",
              "      <td>35.36</td>\n",
              "      <td>1.543378e+09</td>\n",
              "      <td>47.55</td>\n",
              "      <td>1.543320e+09</td>\n",
              "      <td>31.04</td>\n",
              "      <td>1.543378e+09</td>\n",
              "      <td>44.12</td>\n",
              "      <td>1.543320e+09</td>\n",
              "    </tr>\n",
              "    <tr>\n",
              "      <th>3</th>\n",
              "      <td>c2d88af2-d278-4bfd-a8d0-29ca77cc5512</td>\n",
              "      <td>1.543554e+09</td>\n",
              "      <td>4</td>\n",
              "      <td>30</td>\n",
              "      <td>11</td>\n",
              "      <td>2018-11-30 04:53:02</td>\n",
              "      <td>America/New_York</td>\n",
              "      <td>Haymarket Square</td>\n",
              "      <td>North Station</td>\n",
              "      <td>Lyft</td>\n",
              "      <td>...</td>\n",
              "      <td>0.0000</td>\n",
              "      <td>1.543507e+09</td>\n",
              "      <td>34.67</td>\n",
              "      <td>1.543550e+09</td>\n",
              "      <td>45.03</td>\n",
              "      <td>1.543511e+09</td>\n",
              "      <td>30.30</td>\n",
              "      <td>1.543550e+09</td>\n",
              "      <td>38.53</td>\n",
              "      <td>1.543511e+09</td>\n",
              "    </tr>\n",
              "    <tr>\n",
              "      <th>4</th>\n",
              "      <td>e0126e1f-8ca9-4f2e-82b3-50505a09db9a</td>\n",
              "      <td>1.543463e+09</td>\n",
              "      <td>3</td>\n",
              "      <td>29</td>\n",
              "      <td>11</td>\n",
              "      <td>2018-11-29 03:49:20</td>\n",
              "      <td>America/New_York</td>\n",
              "      <td>Haymarket Square</td>\n",
              "      <td>North Station</td>\n",
              "      <td>Lyft</td>\n",
              "      <td>...</td>\n",
              "      <td>0.0001</td>\n",
              "      <td>1.543421e+09</td>\n",
              "      <td>33.10</td>\n",
              "      <td>1.543403e+09</td>\n",
              "      <td>42.18</td>\n",
              "      <td>1.543421e+09</td>\n",
              "      <td>29.11</td>\n",
              "      <td>1.543392e+09</td>\n",
              "      <td>35.75</td>\n",
              "      <td>1.543421e+09</td>\n",
              "    </tr>\n",
              "    <tr>\n",
              "      <th>...</th>\n",
              "      <td>...</td>\n",
              "      <td>...</td>\n",
              "      <td>...</td>\n",
              "      <td>...</td>\n",
              "      <td>...</td>\n",
              "      <td>...</td>\n",
              "      <td>...</td>\n",
              "      <td>...</td>\n",
              "      <td>...</td>\n",
              "      <td>...</td>\n",
              "      <td>...</td>\n",
              "      <td>...</td>\n",
              "      <td>...</td>\n",
              "      <td>...</td>\n",
              "      <td>...</td>\n",
              "      <td>...</td>\n",
              "      <td>...</td>\n",
              "      <td>...</td>\n",
              "      <td>...</td>\n",
              "      <td>...</td>\n",
              "      <td>...</td>\n",
              "    </tr>\n",
              "    <tr>\n",
              "      <th>142374</th>\n",
              "      <td>158fd991-03c2-42ea-8fcb-fa007d8a3265</td>\n",
              "      <td>1.545104e+09</td>\n",
              "      <td>3</td>\n",
              "      <td>18</td>\n",
              "      <td>12</td>\n",
              "      <td>2018-12-18 03:40:06</td>\n",
              "      <td>America/New_York</td>\n",
              "      <td>Beacon Hill</td>\n",
              "      <td>Fenway</td>\n",
              "      <td>Uber</td>\n",
              "      <td>...</td>\n",
              "      <td>0.0175</td>\n",
              "      <td>1.545066e+09</td>\n",
              "      <td>34.14</td>\n",
              "      <td>1.545044e+09</td>\n",
              "      <td>41.44</td>\n",
              "      <td>1.545077e+09</td>\n",
              "      <td>28.12</td>\n",
              "      <td>1.545044e+09</td>\n",
              "      <td>35.95</td>\n",
              "      <td>1.545077e+09</td>\n",
              "    </tr>\n",
              "    <tr>\n",
              "      <th>142375</th>\n",
              "      <td>1b41de35-5722-4546-81e4-6abc6c650210</td>\n",
              "      <td>1.545104e+09</td>\n",
              "      <td>3</td>\n",
              "      <td>18</td>\n",
              "      <td>12</td>\n",
              "      <td>2018-12-18 03:40:06</td>\n",
              "      <td>America/New_York</td>\n",
              "      <td>Beacon Hill</td>\n",
              "      <td>Fenway</td>\n",
              "      <td>Uber</td>\n",
              "      <td>...</td>\n",
              "      <td>0.0175</td>\n",
              "      <td>1.545066e+09</td>\n",
              "      <td>34.14</td>\n",
              "      <td>1.545044e+09</td>\n",
              "      <td>41.44</td>\n",
              "      <td>1.545077e+09</td>\n",
              "      <td>28.12</td>\n",
              "      <td>1.545044e+09</td>\n",
              "      <td>35.95</td>\n",
              "      <td>1.545077e+09</td>\n",
              "    </tr>\n",
              "    <tr>\n",
              "      <th>142376</th>\n",
              "      <td>28981e73-2a89-476f-8fe8-cadb69f3caad</td>\n",
              "      <td>1.543627e+09</td>\n",
              "      <td>1</td>\n",
              "      <td>1</td>\n",
              "      <td>12</td>\n",
              "      <td>2018-12-01 01:13:06</td>\n",
              "      <td>America/New_York</td>\n",
              "      <td>Beacon Hill</td>\n",
              "      <td>Fenway</td>\n",
              "      <td>Uber</td>\n",
              "      <td>...</td>\n",
              "      <td>0.0004</td>\n",
              "      <td>1.543594e+09</td>\n",
              "      <td>28.42</td>\n",
              "      <td>1.543579e+09</td>\n",
              "      <td>42.05</td>\n",
              "      <td>1.543601e+09</td>\n",
              "      <td>29.07</td>\n",
              "      <td>1.543579e+09</td>\n",
              "      <td>41.38</td>\n",
              "      <td>1.543601e+09</td>\n",
              "    </tr>\n",
              "    <tr>\n",
              "      <th>142377</th>\n",
              "      <td>4b8eb3f2-70d4-4f06-9258-b2f02bde09f8</td>\n",
              "      <td>1.543627e+09</td>\n",
              "      <td>1</td>\n",
              "      <td>1</td>\n",
              "      <td>12</td>\n",
              "      <td>2018-12-01 01:13:06</td>\n",
              "      <td>America/New_York</td>\n",
              "      <td>Beacon Hill</td>\n",
              "      <td>Fenway</td>\n",
              "      <td>Uber</td>\n",
              "      <td>...</td>\n",
              "      <td>0.0004</td>\n",
              "      <td>1.543594e+09</td>\n",
              "      <td>28.42</td>\n",
              "      <td>1.543579e+09</td>\n",
              "      <td>42.05</td>\n",
              "      <td>1.543601e+09</td>\n",
              "      <td>29.07</td>\n",
              "      <td>1.543579e+09</td>\n",
              "      <td>41.38</td>\n",
              "      <td>1.543601e+09</td>\n",
              "    </tr>\n",
              "    <tr>\n",
              "      <th>142378</th>\n",
              "      <td>a53606a1-5341-4d44-9592-9f972a7d4805</td>\n",
              "      <td>1.543627e+09</td>\n",
              "      <td>1</td>\n",
              "      <td>1</td>\n",
              "      <td>12</td>\n",
              "      <td>2018-12-01 01:13:06</td>\n",
              "      <td>America/New_York</td>\n",
              "      <td>Beacon Hill</td>\n",
              "      <td>Fenway</td>\n",
              "      <td>Uber</td>\n",
              "      <td>...</td>\n",
              "      <td>NaN</td>\n",
              "      <td>NaN</td>\n",
              "      <td>NaN</td>\n",
              "      <td>NaN</td>\n",
              "      <td>NaN</td>\n",
              "      <td>NaN</td>\n",
              "      <td>NaN</td>\n",
              "      <td>NaN</td>\n",
              "      <td>NaN</td>\n",
              "      <td>NaN</td>\n",
              "    </tr>\n",
              "  </tbody>\n",
              "</table>\n",
              "<p>142379 rows × 57 columns</p>\n",
              "</div>\n",
              "      <button class=\"colab-df-convert\" onclick=\"convertToInteractive('df-2c1ab898-02d3-4159-b20b-f6849e945f9d')\"\n",
              "              title=\"Convert this dataframe to an interactive table.\"\n",
              "              style=\"display:none;\">\n",
              "        \n",
              "  <svg xmlns=\"http://www.w3.org/2000/svg\" height=\"24px\"viewBox=\"0 0 24 24\"\n",
              "       width=\"24px\">\n",
              "    <path d=\"M0 0h24v24H0V0z\" fill=\"none\"/>\n",
              "    <path d=\"M18.56 5.44l.94 2.06.94-2.06 2.06-.94-2.06-.94-.94-2.06-.94 2.06-2.06.94zm-11 1L8.5 8.5l.94-2.06 2.06-.94-2.06-.94L8.5 2.5l-.94 2.06-2.06.94zm10 10l.94 2.06.94-2.06 2.06-.94-2.06-.94-.94-2.06-.94 2.06-2.06.94z\"/><path d=\"M17.41 7.96l-1.37-1.37c-.4-.4-.92-.59-1.43-.59-.52 0-1.04.2-1.43.59L10.3 9.45l-7.72 7.72c-.78.78-.78 2.05 0 2.83L4 21.41c.39.39.9.59 1.41.59.51 0 1.02-.2 1.41-.59l7.78-7.78 2.81-2.81c.8-.78.8-2.07 0-2.86zM5.41 20L4 18.59l7.72-7.72 1.47 1.35L5.41 20z\"/>\n",
              "  </svg>\n",
              "      </button>\n",
              "      \n",
              "  <style>\n",
              "    .colab-df-container {\n",
              "      display:flex;\n",
              "      flex-wrap:wrap;\n",
              "      gap: 12px;\n",
              "    }\n",
              "\n",
              "    .colab-df-convert {\n",
              "      background-color: #E8F0FE;\n",
              "      border: none;\n",
              "      border-radius: 50%;\n",
              "      cursor: pointer;\n",
              "      display: none;\n",
              "      fill: #1967D2;\n",
              "      height: 32px;\n",
              "      padding: 0 0 0 0;\n",
              "      width: 32px;\n",
              "    }\n",
              "\n",
              "    .colab-df-convert:hover {\n",
              "      background-color: #E2EBFA;\n",
              "      box-shadow: 0px 1px 2px rgba(60, 64, 67, 0.3), 0px 1px 3px 1px rgba(60, 64, 67, 0.15);\n",
              "      fill: #174EA6;\n",
              "    }\n",
              "\n",
              "    [theme=dark] .colab-df-convert {\n",
              "      background-color: #3B4455;\n",
              "      fill: #D2E3FC;\n",
              "    }\n",
              "\n",
              "    [theme=dark] .colab-df-convert:hover {\n",
              "      background-color: #434B5C;\n",
              "      box-shadow: 0px 1px 3px 1px rgba(0, 0, 0, 0.15);\n",
              "      filter: drop-shadow(0px 1px 2px rgba(0, 0, 0, 0.3));\n",
              "      fill: #FFFFFF;\n",
              "    }\n",
              "  </style>\n",
              "\n",
              "      <script>\n",
              "        const buttonEl =\n",
              "          document.querySelector('#df-2c1ab898-02d3-4159-b20b-f6849e945f9d button.colab-df-convert');\n",
              "        buttonEl.style.display =\n",
              "          google.colab.kernel.accessAllowed ? 'block' : 'none';\n",
              "\n",
              "        async function convertToInteractive(key) {\n",
              "          const element = document.querySelector('#df-2c1ab898-02d3-4159-b20b-f6849e945f9d');\n",
              "          const dataTable =\n",
              "            await google.colab.kernel.invokeFunction('convertToInteractive',\n",
              "                                                     [key], {});\n",
              "          if (!dataTable) return;\n",
              "\n",
              "          const docLinkHtml = 'Like what you see? Visit the ' +\n",
              "            '<a target=\"_blank\" href=https://colab.research.google.com/notebooks/data_table.ipynb>data table notebook</a>'\n",
              "            + ' to learn more about interactive tables.';\n",
              "          element.innerHTML = '';\n",
              "          dataTable['output_type'] = 'display_data';\n",
              "          await google.colab.output.renderOutput(dataTable, element);\n",
              "          const docLink = document.createElement('div');\n",
              "          docLink.innerHTML = docLinkHtml;\n",
              "          element.appendChild(docLink);\n",
              "        }\n",
              "      </script>\n",
              "    </div>\n",
              "  </div>\n",
              "  "
            ]
          },
          "metadata": {},
          "execution_count": 8
        }
      ]
    },
    {
      "cell_type": "code",
      "source": [
        "df[['temperature','price','distance','surge_multiplier','humidity','windGust','visibility']].describe()"
      ],
      "metadata": {
        "colab": {
          "base_uri": "https://localhost:8080/",
          "height": 294
        },
        "id": "kl1W1TkNx-dL",
        "outputId": "818173d1-a8e8-43b8-f661-01cec0a5d3a8"
      },
      "execution_count": null,
      "outputs": [
        {
          "output_type": "execute_result",
          "data": {
            "text/plain": [
              "         temperature          price       distance  surge_multiplier  \\\n",
              "count  142379.000000  131080.000000  142379.000000     142379.000000   \n",
              "mean       39.560655      16.606375       2.204612          1.014614   \n",
              "std         6.732089       9.370750       1.148468          0.093667   \n",
              "min        18.910000       2.500000       0.020000          1.000000   \n",
              "25%        36.500000       9.000000       1.300000          1.000000   \n",
              "50%        40.490000      13.500000       2.170000          1.000000   \n",
              "75%        43.580000      22.500000       2.950000          1.000000   \n",
              "max        57.220000      92.000000       7.500000          3.000000   \n",
              "\n",
              "            humidity       windGust     visibility  \n",
              "count  142379.000000  142379.000000  142379.000000  \n",
              "mean        0.740426       8.489504       8.473447  \n",
              "std         0.138672       5.276902       2.597177  \n",
              "min         0.380000       0.800000       0.717000  \n",
              "25%         0.640000       4.060000       8.432000  \n",
              "50%         0.710000       7.560000       9.880000  \n",
              "75%         0.880000      11.820000       9.996000  \n",
              "max         0.960000      27.250000      10.000000  "
            ],
            "text/html": [
              "\n",
              "  <div id=\"df-1d2a7b9a-6ab6-49f5-a3f7-70b83d267756\">\n",
              "    <div class=\"colab-df-container\">\n",
              "      <div>\n",
              "<style scoped>\n",
              "    .dataframe tbody tr th:only-of-type {\n",
              "        vertical-align: middle;\n",
              "    }\n",
              "\n",
              "    .dataframe tbody tr th {\n",
              "        vertical-align: top;\n",
              "    }\n",
              "\n",
              "    .dataframe thead th {\n",
              "        text-align: right;\n",
              "    }\n",
              "</style>\n",
              "<table border=\"1\" class=\"dataframe\">\n",
              "  <thead>\n",
              "    <tr style=\"text-align: right;\">\n",
              "      <th></th>\n",
              "      <th>temperature</th>\n",
              "      <th>price</th>\n",
              "      <th>distance</th>\n",
              "      <th>surge_multiplier</th>\n",
              "      <th>humidity</th>\n",
              "      <th>windGust</th>\n",
              "      <th>visibility</th>\n",
              "    </tr>\n",
              "  </thead>\n",
              "  <tbody>\n",
              "    <tr>\n",
              "      <th>count</th>\n",
              "      <td>142379.000000</td>\n",
              "      <td>131080.000000</td>\n",
              "      <td>142379.000000</td>\n",
              "      <td>142379.000000</td>\n",
              "      <td>142379.000000</td>\n",
              "      <td>142379.000000</td>\n",
              "      <td>142379.000000</td>\n",
              "    </tr>\n",
              "    <tr>\n",
              "      <th>mean</th>\n",
              "      <td>39.560655</td>\n",
              "      <td>16.606375</td>\n",
              "      <td>2.204612</td>\n",
              "      <td>1.014614</td>\n",
              "      <td>0.740426</td>\n",
              "      <td>8.489504</td>\n",
              "      <td>8.473447</td>\n",
              "    </tr>\n",
              "    <tr>\n",
              "      <th>std</th>\n",
              "      <td>6.732089</td>\n",
              "      <td>9.370750</td>\n",
              "      <td>1.148468</td>\n",
              "      <td>0.093667</td>\n",
              "      <td>0.138672</td>\n",
              "      <td>5.276902</td>\n",
              "      <td>2.597177</td>\n",
              "    </tr>\n",
              "    <tr>\n",
              "      <th>min</th>\n",
              "      <td>18.910000</td>\n",
              "      <td>2.500000</td>\n",
              "      <td>0.020000</td>\n",
              "      <td>1.000000</td>\n",
              "      <td>0.380000</td>\n",
              "      <td>0.800000</td>\n",
              "      <td>0.717000</td>\n",
              "    </tr>\n",
              "    <tr>\n",
              "      <th>25%</th>\n",
              "      <td>36.500000</td>\n",
              "      <td>9.000000</td>\n",
              "      <td>1.300000</td>\n",
              "      <td>1.000000</td>\n",
              "      <td>0.640000</td>\n",
              "      <td>4.060000</td>\n",
              "      <td>8.432000</td>\n",
              "    </tr>\n",
              "    <tr>\n",
              "      <th>50%</th>\n",
              "      <td>40.490000</td>\n",
              "      <td>13.500000</td>\n",
              "      <td>2.170000</td>\n",
              "      <td>1.000000</td>\n",
              "      <td>0.710000</td>\n",
              "      <td>7.560000</td>\n",
              "      <td>9.880000</td>\n",
              "    </tr>\n",
              "    <tr>\n",
              "      <th>75%</th>\n",
              "      <td>43.580000</td>\n",
              "      <td>22.500000</td>\n",
              "      <td>2.950000</td>\n",
              "      <td>1.000000</td>\n",
              "      <td>0.880000</td>\n",
              "      <td>11.820000</td>\n",
              "      <td>9.996000</td>\n",
              "    </tr>\n",
              "    <tr>\n",
              "      <th>max</th>\n",
              "      <td>57.220000</td>\n",
              "      <td>92.000000</td>\n",
              "      <td>7.500000</td>\n",
              "      <td>3.000000</td>\n",
              "      <td>0.960000</td>\n",
              "      <td>27.250000</td>\n",
              "      <td>10.000000</td>\n",
              "    </tr>\n",
              "  </tbody>\n",
              "</table>\n",
              "</div>\n",
              "      <button class=\"colab-df-convert\" onclick=\"convertToInteractive('df-1d2a7b9a-6ab6-49f5-a3f7-70b83d267756')\"\n",
              "              title=\"Convert this dataframe to an interactive table.\"\n",
              "              style=\"display:none;\">\n",
              "        \n",
              "  <svg xmlns=\"http://www.w3.org/2000/svg\" height=\"24px\"viewBox=\"0 0 24 24\"\n",
              "       width=\"24px\">\n",
              "    <path d=\"M0 0h24v24H0V0z\" fill=\"none\"/>\n",
              "    <path d=\"M18.56 5.44l.94 2.06.94-2.06 2.06-.94-2.06-.94-.94-2.06-.94 2.06-2.06.94zm-11 1L8.5 8.5l.94-2.06 2.06-.94-2.06-.94L8.5 2.5l-.94 2.06-2.06.94zm10 10l.94 2.06.94-2.06 2.06-.94-2.06-.94-.94-2.06-.94 2.06-2.06.94z\"/><path d=\"M17.41 7.96l-1.37-1.37c-.4-.4-.92-.59-1.43-.59-.52 0-1.04.2-1.43.59L10.3 9.45l-7.72 7.72c-.78.78-.78 2.05 0 2.83L4 21.41c.39.39.9.59 1.41.59.51 0 1.02-.2 1.41-.59l7.78-7.78 2.81-2.81c.8-.78.8-2.07 0-2.86zM5.41 20L4 18.59l7.72-7.72 1.47 1.35L5.41 20z\"/>\n",
              "  </svg>\n",
              "      </button>\n",
              "      \n",
              "  <style>\n",
              "    .colab-df-container {\n",
              "      display:flex;\n",
              "      flex-wrap:wrap;\n",
              "      gap: 12px;\n",
              "    }\n",
              "\n",
              "    .colab-df-convert {\n",
              "      background-color: #E8F0FE;\n",
              "      border: none;\n",
              "      border-radius: 50%;\n",
              "      cursor: pointer;\n",
              "      display: none;\n",
              "      fill: #1967D2;\n",
              "      height: 32px;\n",
              "      padding: 0 0 0 0;\n",
              "      width: 32px;\n",
              "    }\n",
              "\n",
              "    .colab-df-convert:hover {\n",
              "      background-color: #E2EBFA;\n",
              "      box-shadow: 0px 1px 2px rgba(60, 64, 67, 0.3), 0px 1px 3px 1px rgba(60, 64, 67, 0.15);\n",
              "      fill: #174EA6;\n",
              "    }\n",
              "\n",
              "    [theme=dark] .colab-df-convert {\n",
              "      background-color: #3B4455;\n",
              "      fill: #D2E3FC;\n",
              "    }\n",
              "\n",
              "    [theme=dark] .colab-df-convert:hover {\n",
              "      background-color: #434B5C;\n",
              "      box-shadow: 0px 1px 3px 1px rgba(0, 0, 0, 0.15);\n",
              "      filter: drop-shadow(0px 1px 2px rgba(0, 0, 0, 0.3));\n",
              "      fill: #FFFFFF;\n",
              "    }\n",
              "  </style>\n",
              "\n",
              "      <script>\n",
              "        const buttonEl =\n",
              "          document.querySelector('#df-1d2a7b9a-6ab6-49f5-a3f7-70b83d267756 button.colab-df-convert');\n",
              "        buttonEl.style.display =\n",
              "          google.colab.kernel.accessAllowed ? 'block' : 'none';\n",
              "\n",
              "        async function convertToInteractive(key) {\n",
              "          const element = document.querySelector('#df-1d2a7b9a-6ab6-49f5-a3f7-70b83d267756');\n",
              "          const dataTable =\n",
              "            await google.colab.kernel.invokeFunction('convertToInteractive',\n",
              "                                                     [key], {});\n",
              "          if (!dataTable) return;\n",
              "\n",
              "          const docLinkHtml = 'Like what you see? Visit the ' +\n",
              "            '<a target=\"_blank\" href=https://colab.research.google.com/notebooks/data_table.ipynb>data table notebook</a>'\n",
              "            + ' to learn more about interactive tables.';\n",
              "          element.innerHTML = '';\n",
              "          dataTable['output_type'] = 'display_data';\n",
              "          await google.colab.output.renderOutput(dataTable, element);\n",
              "          const docLink = document.createElement('div');\n",
              "          docLink.innerHTML = docLinkHtml;\n",
              "          element.appendChild(docLink);\n",
              "        }\n",
              "      </script>\n",
              "    </div>\n",
              "  </div>\n",
              "  "
            ]
          },
          "metadata": {},
          "execution_count": 9
        }
      ]
    },
    {
      "cell_type": "code",
      "source": [
        "df.shape"
      ],
      "metadata": {
        "id": "SmaL1pIdBPsy",
        "colab": {
          "base_uri": "https://localhost:8080/"
        },
        "outputId": "6519122f-4e4a-47ff-b784-202ecbeccceb"
      },
      "execution_count": null,
      "outputs": [
        {
          "output_type": "execute_result",
          "data": {
            "text/plain": [
              "(142379, 57)"
            ]
          },
          "metadata": {},
          "execution_count": 10
        }
      ]
    },
    {
      "cell_type": "code",
      "source": [
        "df.isna().sum()"
      ],
      "metadata": {
        "id": "IypRFCDZCHcN",
        "colab": {
          "base_uri": "https://localhost:8080/"
        },
        "outputId": "d2a3343a-e1f2-4030-8e56-9bfd99ffb3a6"
      },
      "execution_count": null,
      "outputs": [
        {
          "output_type": "execute_result",
          "data": {
            "text/plain": [
              "id                                 0\n",
              "timestamp                          0\n",
              "hour                               0\n",
              "day                                0\n",
              "month                              0\n",
              "datetime                           0\n",
              "timezone                           0\n",
              "source                             0\n",
              "destination                        0\n",
              "cab_type                           0\n",
              "product_id                         0\n",
              "name                               0\n",
              "price                          11299\n",
              "distance                           0\n",
              "surge_multiplier                   0\n",
              "latitude                           0\n",
              "longitude                          0\n",
              "temperature                        0\n",
              "apparentTemperature                0\n",
              "short_summary                      0\n",
              "long_summary                       0\n",
              "precipIntensity                    0\n",
              "precipProbability                  0\n",
              "humidity                           0\n",
              "windSpeed                          0\n",
              "windGust                           0\n",
              "windGustTime                       0\n",
              "visibility                         0\n",
              "temperatureHigh                    0\n",
              "temperatureHighTime                0\n",
              "temperatureLow                     0\n",
              "temperatureLowTime                 0\n",
              "apparentTemperatureHigh            0\n",
              "apparentTemperatureHighTime        0\n",
              "apparentTemperatureLow             0\n",
              "apparentTemperatureLowTime         0\n",
              "icon                               0\n",
              "dewPoint                           0\n",
              "pressure                           0\n",
              "windBearing                        0\n",
              "cloudCover                         0\n",
              "uvIndex                            0\n",
              "visibility.1                       0\n",
              "ozone                              0\n",
              "sunriseTime                        0\n",
              "sunsetTime                         1\n",
              "moonPhase                          1\n",
              "precipIntensityMax                 1\n",
              "uvIndexTime                        1\n",
              "temperatureMin                     1\n",
              "temperatureMinTime                 1\n",
              "temperatureMax                     1\n",
              "temperatureMaxTime                 1\n",
              "apparentTemperatureMin             1\n",
              "apparentTemperatureMinTime         1\n",
              "apparentTemperatureMax             1\n",
              "apparentTemperatureMaxTime         1\n",
              "dtype: int64"
            ]
          },
          "metadata": {},
          "execution_count": 11
        }
      ]
    },
    {
      "cell_type": "code",
      "source": [
        "df.dropna(inplace=True)"
      ],
      "metadata": {
        "id": "GvopOQBjC28u"
      },
      "execution_count": null,
      "outputs": []
    },
    {
      "cell_type": "code",
      "source": [
        "df.isna().sum()"
      ],
      "metadata": {
        "id": "9pLpuEoQC6je",
        "colab": {
          "base_uri": "https://localhost:8080/"
        },
        "outputId": "f3e9f803-5ec4-4c98-ea9b-a63cb681c82d"
      },
      "execution_count": null,
      "outputs": [
        {
          "output_type": "execute_result",
          "data": {
            "text/plain": [
              "id                             0\n",
              "timestamp                      0\n",
              "hour                           0\n",
              "day                            0\n",
              "month                          0\n",
              "datetime                       0\n",
              "timezone                       0\n",
              "source                         0\n",
              "destination                    0\n",
              "cab_type                       0\n",
              "product_id                     0\n",
              "name                           0\n",
              "price                          0\n",
              "distance                       0\n",
              "surge_multiplier               0\n",
              "latitude                       0\n",
              "longitude                      0\n",
              "temperature                    0\n",
              "apparentTemperature            0\n",
              "short_summary                  0\n",
              "long_summary                   0\n",
              "precipIntensity                0\n",
              "precipProbability              0\n",
              "humidity                       0\n",
              "windSpeed                      0\n",
              "windGust                       0\n",
              "windGustTime                   0\n",
              "visibility                     0\n",
              "temperatureHigh                0\n",
              "temperatureHighTime            0\n",
              "temperatureLow                 0\n",
              "temperatureLowTime             0\n",
              "apparentTemperatureHigh        0\n",
              "apparentTemperatureHighTime    0\n",
              "apparentTemperatureLow         0\n",
              "apparentTemperatureLowTime     0\n",
              "icon                           0\n",
              "dewPoint                       0\n",
              "pressure                       0\n",
              "windBearing                    0\n",
              "cloudCover                     0\n",
              "uvIndex                        0\n",
              "visibility.1                   0\n",
              "ozone                          0\n",
              "sunriseTime                    0\n",
              "sunsetTime                     0\n",
              "moonPhase                      0\n",
              "precipIntensityMax             0\n",
              "uvIndexTime                    0\n",
              "temperatureMin                 0\n",
              "temperatureMinTime             0\n",
              "temperatureMax                 0\n",
              "temperatureMaxTime             0\n",
              "apparentTemperatureMin         0\n",
              "apparentTemperatureMinTime     0\n",
              "apparentTemperatureMax         0\n",
              "apparentTemperatureMaxTime     0\n",
              "dtype: int64"
            ]
          },
          "metadata": {},
          "execution_count": 13
        }
      ]
    },
    {
      "cell_type": "code",
      "source": [
        "df.shape"
      ],
      "metadata": {
        "id": "6OQGmZZhC9dg",
        "colab": {
          "base_uri": "https://localhost:8080/"
        },
        "outputId": "07d6a831-166e-40fb-c35f-39f28e1b2c58"
      },
      "execution_count": null,
      "outputs": [
        {
          "output_type": "execute_result",
          "data": {
            "text/plain": [
              "(131079, 57)"
            ]
          },
          "metadata": {},
          "execution_count": 14
        }
      ]
    },
    {
      "cell_type": "code",
      "source": [
        "for i in df.columns:#removing white spaces from the columns\n",
        "  df.rename(columns = {i:i.strip()},inplace=True)"
      ],
      "metadata": {
        "id": "S1-ZA0me7PLl"
      },
      "execution_count": null,
      "outputs": []
    },
    {
      "cell_type": "code",
      "source": [
        "df.columns"
      ],
      "metadata": {
        "id": "DD4T4qDfBUGP",
        "colab": {
          "base_uri": "https://localhost:8080/"
        },
        "outputId": "fe22d3b7-1dd3-4638-a683-d406b13602e7"
      },
      "execution_count": null,
      "outputs": [
        {
          "output_type": "execute_result",
          "data": {
            "text/plain": [
              "Index(['id', 'timestamp', 'hour', 'day', 'month', 'datetime', 'timezone',\n",
              "       'source', 'destination', 'cab_type', 'product_id', 'name', 'price',\n",
              "       'distance', 'surge_multiplier', 'latitude', 'longitude', 'temperature',\n",
              "       'apparentTemperature', 'short_summary', 'long_summary',\n",
              "       'precipIntensity', 'precipProbability', 'humidity', 'windSpeed',\n",
              "       'windGust', 'windGustTime', 'visibility', 'temperatureHigh',\n",
              "       'temperatureHighTime', 'temperatureLow', 'temperatureLowTime',\n",
              "       'apparentTemperatureHigh', 'apparentTemperatureHighTime',\n",
              "       'apparentTemperatureLow', 'apparentTemperatureLowTime', 'icon',\n",
              "       'dewPoint', 'pressure', 'windBearing', 'cloudCover', 'uvIndex',\n",
              "       'visibility.1', 'ozone', 'sunriseTime', 'sunsetTime', 'moonPhase',\n",
              "       'precipIntensityMax', 'uvIndexTime', 'temperatureMin',\n",
              "       'temperatureMinTime', 'temperatureMax', 'temperatureMaxTime',\n",
              "       'apparentTemperatureMin', 'apparentTemperatureMinTime',\n",
              "       'apparentTemperatureMax', 'apparentTemperatureMaxTime'],\n",
              "      dtype='object')"
            ]
          },
          "metadata": {},
          "execution_count": 16
        }
      ]
    },
    {
      "cell_type": "code",
      "source": [
        "#target Columns - Price"
      ],
      "metadata": {
        "id": "v1veNZnP4HnX"
      },
      "execution_count": null,
      "outputs": []
    },
    {
      "cell_type": "code",
      "source": [
        "df['timezone'].value_counts()#removing because does not make sense since only one Time Zone is available in the dataset"
      ],
      "metadata": {
        "id": "KewfI279y6np",
        "colab": {
          "base_uri": "https://localhost:8080/"
        },
        "outputId": "648f0f4a-c4b0-423b-a64b-c8ecb10175b7"
      },
      "execution_count": null,
      "outputs": [
        {
          "output_type": "execute_result",
          "data": {
            "text/plain": [
              "America/New_York    131079\n",
              "Name: timezone, dtype: int64"
            ]
          },
          "metadata": {},
          "execution_count": 18
        }
      ]
    },
    {
      "cell_type": "code",
      "source": [
        "df['long_summary'].value_counts()#removing because this is just an extended version of the short summary"
      ],
      "metadata": {
        "id": "Ik1liHjSzW-_",
        "colab": {
          "base_uri": "https://localhost:8080/"
        },
        "outputId": "9febf44a-8c14-4fa9-d5dd-ca42c613b52d"
      },
      "execution_count": null,
      "outputs": [
        {
          "output_type": "execute_result",
          "data": {
            "text/plain": [
              " Mostly cloudy throughout the day.                      38599\n",
              " Partly cloudy throughout the day.                      27445\n",
              " Light rain in the morning.                             19268\n",
              " Rain throughout the day.                               10025\n",
              " Light rain in the morning and overnight.                9467\n",
              " Rain until morning, starting again in the evening.      9364\n",
              " Foggy in the morning.                                   8519\n",
              " Light rain until evening.                               6521\n",
              " Overcast throughout the day.                            1405\n",
              " Possible drizzle in the morning.                         356\n",
              " Rain in the morning and afternoon.                       110\n",
              "Name: long_summary, dtype: int64"
            ]
          },
          "metadata": {},
          "execution_count": 19
        }
      ]
    },
    {
      "cell_type": "code",
      "source": [
        "df['precipIntensity'].value_counts()#removing because intensity is varying very slightly giving trimmed data."
      ],
      "metadata": {
        "id": "rhaUL9kc6VZZ",
        "colab": {
          "base_uri": "https://localhost:8080/"
        },
        "outputId": "40b967f8-a9d2-4820-e0ef-5a7a89317419"
      },
      "execution_count": null,
      "outputs": [
        {
          "output_type": "execute_result",
          "data": {
            "text/plain": [
              "0.0000    102721\n",
              "0.0020      1049\n",
              "0.0005      1026\n",
              "0.1058       835\n",
              "0.0013       696\n",
              "           ...  \n",
              "0.0074       317\n",
              "0.1044       310\n",
              "0.0010       302\n",
              "0.0006       297\n",
              "0.0053       293\n",
              "Name: precipIntensity, Length: 63, dtype: int64"
            ]
          },
          "metadata": {},
          "execution_count": 20
        }
      ]
    },
    {
      "cell_type": "code",
      "source": [
        "df['humidity'].value_counts()#removing because the values of the region has generally high humidity"
      ],
      "metadata": {
        "id": "Qnhftn707Sys",
        "colab": {
          "base_uri": "https://localhost:8080/"
        },
        "outputId": "9d97d84e-bb91-41e5-fa0c-483a77fa22ab"
      },
      "execution_count": null,
      "outputs": [
        {
          "output_type": "execute_result",
          "data": {
            "text/plain": [
              "0.69    7297\n",
              "0.91    7009\n",
              "0.70    6811\n",
              "0.92    5615\n",
              "0.71    5472\n",
              "0.64    5001\n",
              "0.93    4785\n",
              "0.94    4433\n",
              "0.65    4107\n",
              "0.60    3844\n",
              "0.88    3632\n",
              "0.57    3531\n",
              "0.73    3391\n",
              "0.89    3145\n",
              "0.72    3071\n",
              "0.63    2667\n",
              "0.79    2661\n",
              "0.95    2466\n",
              "0.90    2385\n",
              "0.61    2372\n",
              "0.85    2350\n",
              "0.68    2288\n",
              "0.58    2208\n",
              "0.81    2199\n",
              "0.78    2193\n",
              "0.51    2178\n",
              "0.54    2103\n",
              "0.66    2086\n",
              "0.67    2084\n",
              "0.62    2082\n",
              "0.96    2059\n",
              "0.83    1892\n",
              "0.52    1815\n",
              "0.50    1779\n",
              "0.77    1745\n",
              "0.86    1701\n",
              "0.74    1697\n",
              "0.75    1606\n",
              "0.84    1353\n",
              "0.80    1330\n",
              "0.55    1152\n",
              "0.56    1136\n",
              "0.46    1070\n",
              "0.82    1068\n",
              "0.87    1051\n",
              "0.59    1041\n",
              "0.53     675\n",
              "0.44     629\n",
              "0.41     351\n",
              "0.40     345\n",
              "0.38     118\n",
              "Name: humidity, dtype: int64"
            ]
          },
          "metadata": {},
          "execution_count": 21
        }
      ]
    },
    {
      "cell_type": "code",
      "source": [
        "df['windSpeed'].value_counts()#not having any tremedously outlying value to have an impact on the price and surge multilplier"
      ],
      "metadata": {
        "id": "QQg4Jtoh7oaz",
        "colab": {
          "base_uri": "https://localhost:8080/"
        },
        "outputId": "99d926d1-2605-42e3-a4b7-4a4cb96a628a"
      },
      "execution_count": null,
      "outputs": [
        {
          "output_type": "execute_result",
          "data": {
            "text/plain": [
              "8.33    1782\n",
              "8.11    1534\n",
              "8.41    1495\n",
              "4.54    1399\n",
              "8.28    1320\n",
              "        ... \n",
              "5.15      91\n",
              "0.45      86\n",
              "4.58      37\n",
              "4.80      29\n",
              "0.51      24\n",
              "Name: windSpeed, Length: 291, dtype: int64"
            ]
          },
          "metadata": {},
          "execution_count": 22
        }
      ]
    },
    {
      "cell_type": "code",
      "source": [
        "df['windGust'].value_counts()#same reason as above"
      ],
      "metadata": {
        "id": "7pWE12Pn86Zs",
        "colab": {
          "base_uri": "https://localhost:8080/"
        },
        "outputId": "bce5f101-d171-4ee2-d10e-09177a27e457"
      },
      "execution_count": null,
      "outputs": [
        {
          "output_type": "execute_result",
          "data": {
            "text/plain": [
              "8.47     1410\n",
              "12.38    1373\n",
              "12.21    1178\n",
              "11.54    1160\n",
              "4.16     1087\n",
              "         ... \n",
              "0.87       86\n",
              "2.03       72\n",
              "6.60       37\n",
              "6.83       29\n",
              "0.80       24\n",
              "Name: windGust, Length: 286, dtype: int64"
            ]
          },
          "metadata": {},
          "execution_count": 23
        }
      ]
    },
    {
      "cell_type": "code",
      "source": [
        "df['temperatureHigh'].value_counts()#this data is not very much related to the pricing, since the temperature at the time of booking affects the pricing more"
      ],
      "metadata": {
        "id": "F-wzNQnw9J2y",
        "colab": {
          "base_uri": "https://localhost:8080/"
        },
        "outputId": "a41bf90f-7c79-45e7-de01-ae0bc3f947b4"
      },
      "execution_count": null,
      "outputs": [
        {
          "output_type": "execute_result",
          "data": {
            "text/plain": [
              "42.60    5413\n",
              "42.61    5237\n",
              "46.49    2880\n",
              "42.18    2874\n",
              "42.57    2868\n",
              "         ... \n",
              "35.49     166\n",
              "32.97     118\n",
              "46.28      86\n",
              "36.29      29\n",
              "46.15      24\n",
              "Name: temperatureHigh, Length: 129, dtype: int64"
            ]
          },
          "metadata": {},
          "execution_count": 24
        }
      ]
    },
    {
      "cell_type": "code",
      "source": [
        "df['icon'].value_counts()#is very similar to short summary"
      ],
      "metadata": {
        "id": "uxx6b93w903e",
        "colab": {
          "base_uri": "https://localhost:8080/"
        },
        "outputId": "57bb5177-0fcf-424c-b8ef-1e03cfd8c339"
      },
      "execution_count": null,
      "outputs": [
        {
          "output_type": "execute_result",
          "data": {
            "text/plain": [
              " cloudy                  41330\n",
              " partly-cloudy-night     30132\n",
              " partly-cloudy-day       21696\n",
              " rain                    19785\n",
              " clear-night             11639\n",
              " clear-day                4850\n",
              " fog                      1647\n",
              "Name: icon, dtype: int64"
            ]
          },
          "metadata": {},
          "execution_count": 25
        }
      ]
    },
    {
      "cell_type": "code",
      "source": [
        "df['dewPoint'].value_counts()#not affecting the pricing and surge multilplier same with pressure as well"
      ],
      "metadata": {
        "id": "AVK-1E5d-CU-",
        "colab": {
          "base_uri": "https://localhost:8080/"
        },
        "outputId": "fc0b325d-de20-4f6f-e446-7a2db7913b99"
      },
      "execution_count": null,
      "outputs": [
        {
          "output_type": "execute_result",
          "data": {
            "text/plain": [
              "28.39    1630\n",
              "30.16    1501\n",
              "28.36    1162\n",
              "30.30    1160\n",
              "29.86    1040\n",
              "         ... \n",
              "38.76      86\n",
              "39.64      72\n",
              "29.15      37\n",
              "15.46      29\n",
              "39.62      24\n",
              "Name: dewPoint, Length: 313, dtype: int64"
            ]
          },
          "metadata": {},
          "execution_count": 26
        }
      ]
    },
    {
      "cell_type": "code",
      "source": [
        "df['windBearing'].value_counts()#does not add any value"
      ],
      "metadata": {
        "id": "ZQPRNjMz-RRT",
        "colab": {
          "base_uri": "https://localhost:8080/"
        },
        "outputId": "48da951f-d078-486e-c338-aa5b62fb3984"
      },
      "execution_count": null,
      "outputs": [
        {
          "output_type": "execute_result",
          "data": {
            "text/plain": [
              "303    3615\n",
              "295    3153\n",
              "297    3124\n",
              "313    2470\n",
              "294    2177\n",
              "       ... \n",
              "104     297\n",
              "19      290\n",
              "91      178\n",
              "248      91\n",
              "88       72\n",
              "Name: windBearing, Length: 195, dtype: int64"
            ]
          },
          "metadata": {},
          "execution_count": 27
        }
      ]
    },
    {
      "cell_type": "code",
      "source": [
        "df['cloudCover'].value_counts()#this as well does not affect the pricing"
      ],
      "metadata": {
        "id": "1rPvBpns-cTr",
        "colab": {
          "base_uri": "https://localhost:8080/"
        },
        "outputId": "dbd03f40-3769-4351-fea8-17bbae754cfb"
      },
      "execution_count": null,
      "outputs": [
        {
          "output_type": "execute_result",
          "data": {
            "text/plain": [
              "1.00    50669\n",
              "0.00     7659\n",
              "0.81     3774\n",
              "0.77     3125\n",
              "0.99     2607\n",
              "        ...  \n",
              "0.19      327\n",
              "0.78      326\n",
              "0.61      318\n",
              "0.10      318\n",
              "0.47      303\n",
              "Name: cloudCover, Length: 83, dtype: int64"
            ]
          },
          "metadata": {},
          "execution_count": 28
        }
      ]
    },
    {
      "cell_type": "code",
      "source": [
        "#dropping columns that do not add value to the data \n",
        "trimmed_columns_df = df.drop(['id','timestamp','month','datetime','timezone','product_id',\n",
        "                              'precipIntensity','precipProbability','windSpeed','apparentTemperature',\n",
        "                              'long_summary','humidity','windGust','windGustTime','visibility',\n",
        "                              'temperatureHigh','temperatureHighTime','temperatureLow',\n",
        "                              'temperatureLowTime','apparentTemperatureHigh','apparentTemperatureHighTime'\n",
        "                              ,'apparentTemperatureLow','apparentTemperatureLowTime','icon','dewPoint','pressure','windBearing',\n",
        "                              'cloudCover','uvIndex','visibility.1',\n",
        "                              'ozone','sunriseTime','sunsetTime','moonPhase','precipIntensityMax',\n",
        "                              'uvIndexTime','temperatureMin','temperatureMinTime','temperatureMax','temperatureMaxTime'\n",
        "                              ,'apparentTemperatureMin','apparentTemperatureMinTime',\n",
        "                              'apparentTemperatureMax','apparentTemperatureMaxTime'],axis=1)"
      ],
      "metadata": {
        "id": "IahOw4t8wRE8"
      },
      "execution_count": null,
      "outputs": []
    },
    {
      "cell_type": "code",
      "source": [
        "trimmed_columns_df"
      ],
      "metadata": {
        "colab": {
          "base_uri": "https://localhost:8080/",
          "height": 414
        },
        "id": "CMtEDuXBBcIG",
        "outputId": "edf6e719-0b5c-4f32-ec4d-11e9479dffc3"
      },
      "execution_count": null,
      "outputs": [
        {
          "output_type": "execute_result",
          "data": {
            "text/plain": [
              "        hour  day            source       destination cab_type          name  \\\n",
              "0          9   16  Haymarket Square     North Station     Lyft        Shared   \n",
              "1          2   27  Haymarket Square     North Station     Lyft           Lux   \n",
              "2          1   28  Haymarket Square     North Station     Lyft          Lyft   \n",
              "3          4   30  Haymarket Square     North Station     Lyft  Lux Black XL   \n",
              "4          3   29  Haymarket Square     North Station     Lyft       Lyft XL   \n",
              "...      ...  ...               ...               ...      ...           ...   \n",
              "142371     3   18          Back Bay         North End     Uber           WAV   \n",
              "142373     3   18     South Station  Theatre District     Lyft  Lux Black XL   \n",
              "142374     3   18       Beacon Hill            Fenway     Uber           WAV   \n",
              "142375     3   18       Beacon Hill            Fenway     Uber     Black SUV   \n",
              "142376     1    1       Beacon Hill            Fenway     Uber        UberXL   \n",
              "\n",
              "        price  distance  surge_multiplier  latitude  longitude  temperature  \\\n",
              "0         5.0      0.44               1.0   42.2148   -71.0330        42.34   \n",
              "1        11.0      0.44               1.0   42.2148   -71.0330        43.58   \n",
              "2         7.0      0.44               1.0   42.2148   -71.0330        38.33   \n",
              "3        26.0      0.44               1.0   42.2148   -71.0330        34.38   \n",
              "4         9.0      0.44               1.0   42.2148   -71.0330        37.44   \n",
              "...       ...       ...               ...       ...        ...          ...   \n",
              "142371   12.5      2.67               1.0   42.3519   -71.0551        37.26   \n",
              "142373   27.5      1.11               1.0   42.3519   -71.0551        37.26   \n",
              "142374    9.5      2.37               1.0   42.3519   -71.0551        37.26   \n",
              "142375   26.0      2.37               1.0   42.3519   -71.0551        37.26   \n",
              "142376   15.0      2.37               1.0   42.3505   -71.1054        37.75   \n",
              "\n",
              "          short_summary  \n",
              "0        Mostly Cloudy   \n",
              "1                 Rain   \n",
              "2                Clear   \n",
              "3                Clear   \n",
              "4        Partly Cloudy   \n",
              "...                 ...  \n",
              "142371        Overcast   \n",
              "142373        Overcast   \n",
              "142374        Overcast   \n",
              "142375        Overcast   \n",
              "142376        Overcast   \n",
              "\n",
              "[131079 rows x 13 columns]"
            ],
            "text/html": [
              "\n",
              "  <div id=\"df-558113d4-f2ac-4414-9816-3a2c9d6fc756\">\n",
              "    <div class=\"colab-df-container\">\n",
              "      <div>\n",
              "<style scoped>\n",
              "    .dataframe tbody tr th:only-of-type {\n",
              "        vertical-align: middle;\n",
              "    }\n",
              "\n",
              "    .dataframe tbody tr th {\n",
              "        vertical-align: top;\n",
              "    }\n",
              "\n",
              "    .dataframe thead th {\n",
              "        text-align: right;\n",
              "    }\n",
              "</style>\n",
              "<table border=\"1\" class=\"dataframe\">\n",
              "  <thead>\n",
              "    <tr style=\"text-align: right;\">\n",
              "      <th></th>\n",
              "      <th>hour</th>\n",
              "      <th>day</th>\n",
              "      <th>source</th>\n",
              "      <th>destination</th>\n",
              "      <th>cab_type</th>\n",
              "      <th>name</th>\n",
              "      <th>price</th>\n",
              "      <th>distance</th>\n",
              "      <th>surge_multiplier</th>\n",
              "      <th>latitude</th>\n",
              "      <th>longitude</th>\n",
              "      <th>temperature</th>\n",
              "      <th>short_summary</th>\n",
              "    </tr>\n",
              "  </thead>\n",
              "  <tbody>\n",
              "    <tr>\n",
              "      <th>0</th>\n",
              "      <td>9</td>\n",
              "      <td>16</td>\n",
              "      <td>Haymarket Square</td>\n",
              "      <td>North Station</td>\n",
              "      <td>Lyft</td>\n",
              "      <td>Shared</td>\n",
              "      <td>5.0</td>\n",
              "      <td>0.44</td>\n",
              "      <td>1.0</td>\n",
              "      <td>42.2148</td>\n",
              "      <td>-71.0330</td>\n",
              "      <td>42.34</td>\n",
              "      <td>Mostly Cloudy</td>\n",
              "    </tr>\n",
              "    <tr>\n",
              "      <th>1</th>\n",
              "      <td>2</td>\n",
              "      <td>27</td>\n",
              "      <td>Haymarket Square</td>\n",
              "      <td>North Station</td>\n",
              "      <td>Lyft</td>\n",
              "      <td>Lux</td>\n",
              "      <td>11.0</td>\n",
              "      <td>0.44</td>\n",
              "      <td>1.0</td>\n",
              "      <td>42.2148</td>\n",
              "      <td>-71.0330</td>\n",
              "      <td>43.58</td>\n",
              "      <td>Rain</td>\n",
              "    </tr>\n",
              "    <tr>\n",
              "      <th>2</th>\n",
              "      <td>1</td>\n",
              "      <td>28</td>\n",
              "      <td>Haymarket Square</td>\n",
              "      <td>North Station</td>\n",
              "      <td>Lyft</td>\n",
              "      <td>Lyft</td>\n",
              "      <td>7.0</td>\n",
              "      <td>0.44</td>\n",
              "      <td>1.0</td>\n",
              "      <td>42.2148</td>\n",
              "      <td>-71.0330</td>\n",
              "      <td>38.33</td>\n",
              "      <td>Clear</td>\n",
              "    </tr>\n",
              "    <tr>\n",
              "      <th>3</th>\n",
              "      <td>4</td>\n",
              "      <td>30</td>\n",
              "      <td>Haymarket Square</td>\n",
              "      <td>North Station</td>\n",
              "      <td>Lyft</td>\n",
              "      <td>Lux Black XL</td>\n",
              "      <td>26.0</td>\n",
              "      <td>0.44</td>\n",
              "      <td>1.0</td>\n",
              "      <td>42.2148</td>\n",
              "      <td>-71.0330</td>\n",
              "      <td>34.38</td>\n",
              "      <td>Clear</td>\n",
              "    </tr>\n",
              "    <tr>\n",
              "      <th>4</th>\n",
              "      <td>3</td>\n",
              "      <td>29</td>\n",
              "      <td>Haymarket Square</td>\n",
              "      <td>North Station</td>\n",
              "      <td>Lyft</td>\n",
              "      <td>Lyft XL</td>\n",
              "      <td>9.0</td>\n",
              "      <td>0.44</td>\n",
              "      <td>1.0</td>\n",
              "      <td>42.2148</td>\n",
              "      <td>-71.0330</td>\n",
              "      <td>37.44</td>\n",
              "      <td>Partly Cloudy</td>\n",
              "    </tr>\n",
              "    <tr>\n",
              "      <th>...</th>\n",
              "      <td>...</td>\n",
              "      <td>...</td>\n",
              "      <td>...</td>\n",
              "      <td>...</td>\n",
              "      <td>...</td>\n",
              "      <td>...</td>\n",
              "      <td>...</td>\n",
              "      <td>...</td>\n",
              "      <td>...</td>\n",
              "      <td>...</td>\n",
              "      <td>...</td>\n",
              "      <td>...</td>\n",
              "      <td>...</td>\n",
              "    </tr>\n",
              "    <tr>\n",
              "      <th>142371</th>\n",
              "      <td>3</td>\n",
              "      <td>18</td>\n",
              "      <td>Back Bay</td>\n",
              "      <td>North End</td>\n",
              "      <td>Uber</td>\n",
              "      <td>WAV</td>\n",
              "      <td>12.5</td>\n",
              "      <td>2.67</td>\n",
              "      <td>1.0</td>\n",
              "      <td>42.3519</td>\n",
              "      <td>-71.0551</td>\n",
              "      <td>37.26</td>\n",
              "      <td>Overcast</td>\n",
              "    </tr>\n",
              "    <tr>\n",
              "      <th>142373</th>\n",
              "      <td>3</td>\n",
              "      <td>18</td>\n",
              "      <td>South Station</td>\n",
              "      <td>Theatre District</td>\n",
              "      <td>Lyft</td>\n",
              "      <td>Lux Black XL</td>\n",
              "      <td>27.5</td>\n",
              "      <td>1.11</td>\n",
              "      <td>1.0</td>\n",
              "      <td>42.3519</td>\n",
              "      <td>-71.0551</td>\n",
              "      <td>37.26</td>\n",
              "      <td>Overcast</td>\n",
              "    </tr>\n",
              "    <tr>\n",
              "      <th>142374</th>\n",
              "      <td>3</td>\n",
              "      <td>18</td>\n",
              "      <td>Beacon Hill</td>\n",
              "      <td>Fenway</td>\n",
              "      <td>Uber</td>\n",
              "      <td>WAV</td>\n",
              "      <td>9.5</td>\n",
              "      <td>2.37</td>\n",
              "      <td>1.0</td>\n",
              "      <td>42.3519</td>\n",
              "      <td>-71.0551</td>\n",
              "      <td>37.26</td>\n",
              "      <td>Overcast</td>\n",
              "    </tr>\n",
              "    <tr>\n",
              "      <th>142375</th>\n",
              "      <td>3</td>\n",
              "      <td>18</td>\n",
              "      <td>Beacon Hill</td>\n",
              "      <td>Fenway</td>\n",
              "      <td>Uber</td>\n",
              "      <td>Black SUV</td>\n",
              "      <td>26.0</td>\n",
              "      <td>2.37</td>\n",
              "      <td>1.0</td>\n",
              "      <td>42.3519</td>\n",
              "      <td>-71.0551</td>\n",
              "      <td>37.26</td>\n",
              "      <td>Overcast</td>\n",
              "    </tr>\n",
              "    <tr>\n",
              "      <th>142376</th>\n",
              "      <td>1</td>\n",
              "      <td>1</td>\n",
              "      <td>Beacon Hill</td>\n",
              "      <td>Fenway</td>\n",
              "      <td>Uber</td>\n",
              "      <td>UberXL</td>\n",
              "      <td>15.0</td>\n",
              "      <td>2.37</td>\n",
              "      <td>1.0</td>\n",
              "      <td>42.3505</td>\n",
              "      <td>-71.1054</td>\n",
              "      <td>37.75</td>\n",
              "      <td>Overcast</td>\n",
              "    </tr>\n",
              "  </tbody>\n",
              "</table>\n",
              "<p>131079 rows × 13 columns</p>\n",
              "</div>\n",
              "      <button class=\"colab-df-convert\" onclick=\"convertToInteractive('df-558113d4-f2ac-4414-9816-3a2c9d6fc756')\"\n",
              "              title=\"Convert this dataframe to an interactive table.\"\n",
              "              style=\"display:none;\">\n",
              "        \n",
              "  <svg xmlns=\"http://www.w3.org/2000/svg\" height=\"24px\"viewBox=\"0 0 24 24\"\n",
              "       width=\"24px\">\n",
              "    <path d=\"M0 0h24v24H0V0z\" fill=\"none\"/>\n",
              "    <path d=\"M18.56 5.44l.94 2.06.94-2.06 2.06-.94-2.06-.94-.94-2.06-.94 2.06-2.06.94zm-11 1L8.5 8.5l.94-2.06 2.06-.94-2.06-.94L8.5 2.5l-.94 2.06-2.06.94zm10 10l.94 2.06.94-2.06 2.06-.94-2.06-.94-.94-2.06-.94 2.06-2.06.94z\"/><path d=\"M17.41 7.96l-1.37-1.37c-.4-.4-.92-.59-1.43-.59-.52 0-1.04.2-1.43.59L10.3 9.45l-7.72 7.72c-.78.78-.78 2.05 0 2.83L4 21.41c.39.39.9.59 1.41.59.51 0 1.02-.2 1.41-.59l7.78-7.78 2.81-2.81c.8-.78.8-2.07 0-2.86zM5.41 20L4 18.59l7.72-7.72 1.47 1.35L5.41 20z\"/>\n",
              "  </svg>\n",
              "      </button>\n",
              "      \n",
              "  <style>\n",
              "    .colab-df-container {\n",
              "      display:flex;\n",
              "      flex-wrap:wrap;\n",
              "      gap: 12px;\n",
              "    }\n",
              "\n",
              "    .colab-df-convert {\n",
              "      background-color: #E8F0FE;\n",
              "      border: none;\n",
              "      border-radius: 50%;\n",
              "      cursor: pointer;\n",
              "      display: none;\n",
              "      fill: #1967D2;\n",
              "      height: 32px;\n",
              "      padding: 0 0 0 0;\n",
              "      width: 32px;\n",
              "    }\n",
              "\n",
              "    .colab-df-convert:hover {\n",
              "      background-color: #E2EBFA;\n",
              "      box-shadow: 0px 1px 2px rgba(60, 64, 67, 0.3), 0px 1px 3px 1px rgba(60, 64, 67, 0.15);\n",
              "      fill: #174EA6;\n",
              "    }\n",
              "\n",
              "    [theme=dark] .colab-df-convert {\n",
              "      background-color: #3B4455;\n",
              "      fill: #D2E3FC;\n",
              "    }\n",
              "\n",
              "    [theme=dark] .colab-df-convert:hover {\n",
              "      background-color: #434B5C;\n",
              "      box-shadow: 0px 1px 3px 1px rgba(0, 0, 0, 0.15);\n",
              "      filter: drop-shadow(0px 1px 2px rgba(0, 0, 0, 0.3));\n",
              "      fill: #FFFFFF;\n",
              "    }\n",
              "  </style>\n",
              "\n",
              "      <script>\n",
              "        const buttonEl =\n",
              "          document.querySelector('#df-558113d4-f2ac-4414-9816-3a2c9d6fc756 button.colab-df-convert');\n",
              "        buttonEl.style.display =\n",
              "          google.colab.kernel.accessAllowed ? 'block' : 'none';\n",
              "\n",
              "        async function convertToInteractive(key) {\n",
              "          const element = document.querySelector('#df-558113d4-f2ac-4414-9816-3a2c9d6fc756');\n",
              "          const dataTable =\n",
              "            await google.colab.kernel.invokeFunction('convertToInteractive',\n",
              "                                                     [key], {});\n",
              "          if (!dataTable) return;\n",
              "\n",
              "          const docLinkHtml = 'Like what you see? Visit the ' +\n",
              "            '<a target=\"_blank\" href=https://colab.research.google.com/notebooks/data_table.ipynb>data table notebook</a>'\n",
              "            + ' to learn more about interactive tables.';\n",
              "          element.innerHTML = '';\n",
              "          dataTable['output_type'] = 'display_data';\n",
              "          await google.colab.output.renderOutput(dataTable, element);\n",
              "          const docLink = document.createElement('div');\n",
              "          docLink.innerHTML = docLinkHtml;\n",
              "          element.appendChild(docLink);\n",
              "        }\n",
              "      </script>\n",
              "    </div>\n",
              "  </div>\n",
              "  "
            ]
          },
          "metadata": {},
          "execution_count": 30
        }
      ]
    },
    {
      "cell_type": "code",
      "source": [
        "revenue_df = trimmed_columns_df[['price','cab_type','distance']].groupby(by='cab_type').sum()\n",
        "revenue_df['$ per mile'] = np.round(np.array(revenue_df['price']/revenue_df['distance']))\n",
        "revenue_df"
      ],
      "metadata": {
        "colab": {
          "base_uri": "https://localhost:8080/",
          "height": 141
        },
        "id": "09ToDNEFEkLk",
        "outputId": "1cb6f631-f8e3-42e3-84f9-9c1bbae276e7"
      },
      "execution_count": null,
      "outputs": [
        {
          "output_type": "execute_result",
          "data": {
            "text/plain": [
              "              price   distance  $ per mile\n",
              "cab_type                                  \n",
              "Lyft      1101738.2  139253.20         8.0\n",
              "Uber      1075006.0  149722.24         7.0"
            ],
            "text/html": [
              "\n",
              "  <div id=\"df-40a4a7bb-5141-46b6-afeb-f91d535ebc81\">\n",
              "    <div class=\"colab-df-container\">\n",
              "      <div>\n",
              "<style scoped>\n",
              "    .dataframe tbody tr th:only-of-type {\n",
              "        vertical-align: middle;\n",
              "    }\n",
              "\n",
              "    .dataframe tbody tr th {\n",
              "        vertical-align: top;\n",
              "    }\n",
              "\n",
              "    .dataframe thead th {\n",
              "        text-align: right;\n",
              "    }\n",
              "</style>\n",
              "<table border=\"1\" class=\"dataframe\">\n",
              "  <thead>\n",
              "    <tr style=\"text-align: right;\">\n",
              "      <th></th>\n",
              "      <th>price</th>\n",
              "      <th>distance</th>\n",
              "      <th>$ per mile</th>\n",
              "    </tr>\n",
              "    <tr>\n",
              "      <th>cab_type</th>\n",
              "      <th></th>\n",
              "      <th></th>\n",
              "      <th></th>\n",
              "    </tr>\n",
              "  </thead>\n",
              "  <tbody>\n",
              "    <tr>\n",
              "      <th>Lyft</th>\n",
              "      <td>1101738.2</td>\n",
              "      <td>139253.20</td>\n",
              "      <td>8.0</td>\n",
              "    </tr>\n",
              "    <tr>\n",
              "      <th>Uber</th>\n",
              "      <td>1075006.0</td>\n",
              "      <td>149722.24</td>\n",
              "      <td>7.0</td>\n",
              "    </tr>\n",
              "  </tbody>\n",
              "</table>\n",
              "</div>\n",
              "      <button class=\"colab-df-convert\" onclick=\"convertToInteractive('df-40a4a7bb-5141-46b6-afeb-f91d535ebc81')\"\n",
              "              title=\"Convert this dataframe to an interactive table.\"\n",
              "              style=\"display:none;\">\n",
              "        \n",
              "  <svg xmlns=\"http://www.w3.org/2000/svg\" height=\"24px\"viewBox=\"0 0 24 24\"\n",
              "       width=\"24px\">\n",
              "    <path d=\"M0 0h24v24H0V0z\" fill=\"none\"/>\n",
              "    <path d=\"M18.56 5.44l.94 2.06.94-2.06 2.06-.94-2.06-.94-.94-2.06-.94 2.06-2.06.94zm-11 1L8.5 8.5l.94-2.06 2.06-.94-2.06-.94L8.5 2.5l-.94 2.06-2.06.94zm10 10l.94 2.06.94-2.06 2.06-.94-2.06-.94-.94-2.06-.94 2.06-2.06.94z\"/><path d=\"M17.41 7.96l-1.37-1.37c-.4-.4-.92-.59-1.43-.59-.52 0-1.04.2-1.43.59L10.3 9.45l-7.72 7.72c-.78.78-.78 2.05 0 2.83L4 21.41c.39.39.9.59 1.41.59.51 0 1.02-.2 1.41-.59l7.78-7.78 2.81-2.81c.8-.78.8-2.07 0-2.86zM5.41 20L4 18.59l7.72-7.72 1.47 1.35L5.41 20z\"/>\n",
              "  </svg>\n",
              "      </button>\n",
              "      \n",
              "  <style>\n",
              "    .colab-df-container {\n",
              "      display:flex;\n",
              "      flex-wrap:wrap;\n",
              "      gap: 12px;\n",
              "    }\n",
              "\n",
              "    .colab-df-convert {\n",
              "      background-color: #E8F0FE;\n",
              "      border: none;\n",
              "      border-radius: 50%;\n",
              "      cursor: pointer;\n",
              "      display: none;\n",
              "      fill: #1967D2;\n",
              "      height: 32px;\n",
              "      padding: 0 0 0 0;\n",
              "      width: 32px;\n",
              "    }\n",
              "\n",
              "    .colab-df-convert:hover {\n",
              "      background-color: #E2EBFA;\n",
              "      box-shadow: 0px 1px 2px rgba(60, 64, 67, 0.3), 0px 1px 3px 1px rgba(60, 64, 67, 0.15);\n",
              "      fill: #174EA6;\n",
              "    }\n",
              "\n",
              "    [theme=dark] .colab-df-convert {\n",
              "      background-color: #3B4455;\n",
              "      fill: #D2E3FC;\n",
              "    }\n",
              "\n",
              "    [theme=dark] .colab-df-convert:hover {\n",
              "      background-color: #434B5C;\n",
              "      box-shadow: 0px 1px 3px 1px rgba(0, 0, 0, 0.15);\n",
              "      filter: drop-shadow(0px 1px 2px rgba(0, 0, 0, 0.3));\n",
              "      fill: #FFFFFF;\n",
              "    }\n",
              "  </style>\n",
              "\n",
              "      <script>\n",
              "        const buttonEl =\n",
              "          document.querySelector('#df-40a4a7bb-5141-46b6-afeb-f91d535ebc81 button.colab-df-convert');\n",
              "        buttonEl.style.display =\n",
              "          google.colab.kernel.accessAllowed ? 'block' : 'none';\n",
              "\n",
              "        async function convertToInteractive(key) {\n",
              "          const element = document.querySelector('#df-40a4a7bb-5141-46b6-afeb-f91d535ebc81');\n",
              "          const dataTable =\n",
              "            await google.colab.kernel.invokeFunction('convertToInteractive',\n",
              "                                                     [key], {});\n",
              "          if (!dataTable) return;\n",
              "\n",
              "          const docLinkHtml = 'Like what you see? Visit the ' +\n",
              "            '<a target=\"_blank\" href=https://colab.research.google.com/notebooks/data_table.ipynb>data table notebook</a>'\n",
              "            + ' to learn more about interactive tables.';\n",
              "          element.innerHTML = '';\n",
              "          dataTable['output_type'] = 'display_data';\n",
              "          await google.colab.output.renderOutput(dataTable, element);\n",
              "          const docLink = document.createElement('div');\n",
              "          docLink.innerHTML = docLinkHtml;\n",
              "          element.appendChild(docLink);\n",
              "        }\n",
              "      </script>\n",
              "    </div>\n",
              "  </div>\n",
              "  "
            ]
          },
          "metadata": {},
          "execution_count": 31
        }
      ]
    },
    {
      "cell_type": "code",
      "source": [
        "fig, ax = plt.subplots()\n",
        "\n",
        "ax.plot(revenue_df.index,revenue_df['$ per mile'],linestyle='--',marker = 'o')\n",
        "\n",
        "plt.title('$ Per mile comparison of Uber and Lyft')\n",
        "\n",
        "for i,v in zip(revenue_df.index,revenue_df['$ per mile']):\n",
        "  plt.text(i,v,str(v))\n",
        "\n",
        "plt.show()"
      ],
      "metadata": {
        "colab": {
          "base_uri": "https://localhost:8080/",
          "height": 452
        },
        "id": "vbnqSDzbL_AV",
        "outputId": "66eb7e9f-f9e3-4823-cecf-52447b5cab23"
      },
      "execution_count": null,
      "outputs": [
        {
          "output_type": "display_data",
          "data": {
            "text/plain": [
              "<Figure size 640x480 with 1 Axes>"
            ],
            "image/png": "[encoded data removed]"
          },
          "metadata": {}
        }
      ]
    },
    {
      "cell_type": "code",
      "source": [
        "revenue_by_cab_type_df = trimmed_columns_df[['price','distance','cab_type','name']].groupby(by=['cab_type','name']).sum()\n",
        "revenue_by_cab_type_df['$ per mile'] = np.round(np.array(revenue_by_cab_type_df['price']/revenue_by_cab_type_df['distance']),2)"
      ],
      "metadata": {
        "id": "RpcYLuVCOpv3"
      },
      "execution_count": null,
      "outputs": []
    },
    {
      "cell_type": "code",
      "source": [
        "car_types = []\n",
        "for i in revenue_by_cab_type_df.index:\n",
        "  car_types.append(\" - \".join(list(i)))"
      ],
      "metadata": {
        "id": "CxT1nh0VPX5U"
      },
      "execution_count": null,
      "outputs": []
    },
    {
      "cell_type": "code",
      "source": [
        "colors = ['cadetblue' if 'Uber' in yi else 'crimson' for yi in car_types]\n",
        "\n",
        "plt.barh(car_types,revenue_by_cab_type_df['$ per mile'],color=colors)\n",
        "\n",
        "plt.title('Break up of $ per mile by car types')\n",
        "\n",
        "for i, v in enumerate(list(revenue_by_cab_type_df['$ per mile'])):\n",
        "    plt.text(v + 0.05, i , str(v))\n",
        "\n",
        "plt.show()"
      ],
      "metadata": {
        "colab": {
          "base_uri": "https://localhost:8080/",
          "height": 452
        },
        "id": "VBEfxwJGQeyY",
        "outputId": "ebda1307-cd05-4629-b347-b57ea786bf55"
      },
      "execution_count": null,
      "outputs": [
        {
          "output_type": "display_data",
          "data": {
            "text/plain": [
              "<Figure size 640x480 with 1 Axes>"
            ],
            "image/png": "[encoded data removed]"
          },
          "metadata": {}
        }
      ]
    },
    {
      "cell_type": "code",
      "source": [
        "import folium\n",
        "\n",
        "locations = dict(trimmed_columns_df[['latitude','longitude']].value_counts())\n",
        "\n",
        "locations_list = []\n",
        "for k,v in locations.items():\n",
        "  new_tuple = k + (v,)\n",
        "  locations_list.append(list(new_tuple))\n",
        "\n",
        "map = folium.Map(location=[42.361145,  -71.057083], zoom_start=14)\n",
        "\n",
        "for i in range(len(locations_list)):\n",
        "\n",
        "  folium.Marker(location=locations_list[i][:2]).add_to(map)\n",
        "\n",
        "map"
      ],
      "metadata": {
        "id": "4xvy0cAjNmf4",
        "colab": {
          "base_uri": "https://localhost:8080/",
          "height": 1000
        },
        "outputId": "898f5638-b0c7-41df-c504-685a00bcf838"
      },
      "execution_count": null,
      "outputs": [
        {
          "output_type": "execute_result",
          "data": {
            "text/plain": [
              "<folium.folium.Map at 0x7f062a965490>"
            ],
            "text/html": [
              "<div style=\"width:100%;\"><div style=\"position:relative;width:100%;height:0;padding-bottom:60%;\"><span style=\"color:#565656\">Make this Notebook Trusted to load map: File -> Trust Notebook</span><iframe srcdoc=\"&lt;!DOCTYPE html&gt;\n",
              "&lt;html&gt;\n",
              "&lt;head&gt;\n",
              "    \n",
              "    &lt;meta http-equiv=&quot;content-type&quot; content=&quot;text/html; charset=UTF-8&quot; /&gt;\n",
              "    \n",
              "        &lt;script&gt;\n",
              "            L_NO_TOUCH = false;\n",
              "            L_DISABLE_3D = false;\n",
              "        &lt;/script&gt;\n",
              "    \n",
              "    &lt;style&gt;html, body {width: 100%;height: 100%;margin: 0;padding: 0;}&lt;/style&gt;\n",
              "    &lt;style&gt;#map {position:absolute;top:0;bottom:0;right:0;left:0;}&lt;/style&gt;\n",
              "    &lt;script src=&quot;https://cdn.jsdelivr.net/npm/leaflet@1.9.3/dist/leaflet.js&quot;&gt;&lt;/script&gt;\n",
              "    &lt;script src=&quot;https://code.jquery.com/jquery-1.12.4.min.js&quot;&gt;&lt;/script&gt;\n",
              "    &lt;script src=&quot;https://cdn.jsdelivr.net/npm/bootstrap@5.2.2/dist/js/bootstrap.bundle.min.js&quot;&gt;&lt;/script&gt;\n",
              "    &lt;script src=&quot;https://cdnjs.cloudflare.com/ajax/libs/Leaflet.awesome-markers/2.0.2/leaflet.awesome-markers.js&quot;&gt;&lt;/script&gt;\n",
              "    &lt;link rel=&quot;stylesheet&quot; href=&quot;https://cdn.jsdelivr.net/npm/leaflet@1.9.3/dist/leaflet.css&quot;/&gt;\n",
              "    &lt;link rel=&quot;stylesheet&quot; href=&quot;https://cdn.jsdelivr.net/npm/bootstrap@5.2.2/dist/css/bootstrap.min.css&quot;/&gt;\n",
              "    &lt;link rel=&quot;stylesheet&quot; href=&quot;https://netdna.bootstrapcdn.com/bootstrap/3.0.0/css/bootstrap.min.css&quot;/&gt;\n",
              "    &lt;link rel=&quot;stylesheet&quot; href=&quot;https://cdn.jsdelivr.net/npm/@fortawesome/fontawesome-free@6.2.0/css/all.min.css&quot;/&gt;\n",
              "    &lt;link rel=&quot;stylesheet&quot; href=&quot;https://cdnjs.cloudflare.com/ajax/libs/Leaflet.awesome-markers/2.0.2/leaflet.awesome-markers.css&quot;/&gt;\n",
              "    &lt;link rel=&quot;stylesheet&quot; href=&quot;https://cdn.jsdelivr.net/gh/python-visualization/folium/folium/templates/leaflet.awesome.rotate.min.css&quot;/&gt;\n",
              "    \n",
              "            &lt;meta name=&quot;viewport&quot; content=&quot;width=device-width,\n",
              "                initial-scale=1.0, maximum-scale=1.0, user-scalable=no&quot; /&gt;\n",
              "            &lt;style&gt;\n",
              "                #map_1754d49cc426c184802a5fe2e5464be5 {\n",
              "                    position: relative;\n",
              "                    width: 100.0%;\n",
              "                    height: 100.0%;\n",
              "                    left: 0.0%;\n",
              "                    top: 0.0%;\n",
              "                }\n",
              "                .leaflet-container { font-size: 1rem; }\n",
              "            &lt;/style&gt;\n",
              "        \n",
              "&lt;/head&gt;\n",
              "&lt;body&gt;\n",
              "    \n",
              "    \n",
              "            &lt;div class=&quot;folium-map&quot; id=&quot;map_1754d49cc426c184802a5fe2e5464be5&quot; &gt;&lt;/div&gt;\n",
              "        \n",
              "&lt;/body&gt;\n",
              "&lt;script&gt;\n",
              "    \n",
              "    \n",
              "            var map_1754d49cc426c184802a5fe2e5464be5 = L.map(\n",
              "                &quot;map_1754d49cc426c184802a5fe2e5464be5&quot;,\n",
              "                {\n",
              "                    center: [42.361145, -71.057083],\n",
              "                    crs: L.CRS.EPSG3857,\n",
              "                    zoom: 14,\n",
              "                    zoomControl: true,\n",
              "                    preferCanvas: false,\n",
              "                }\n",
              "            );\n",
              "\n",
              "            \n",
              "\n",
              "        \n",
              "    \n",
              "            var tile_layer_e29560fb60ca17393041f10f2bb7f7a8 = L.tileLayer(\n",
              "                &quot;https://{s}.tile.openstreetmap.org/{z}/{x}/{y}.png&quot;,\n",
              "                {&quot;attribution&quot;: &quot;Data by \\u0026copy; \\u003ca target=\\&quot;_blank\\&quot; href=\\&quot;http://openstreetmap.org\\&quot;\\u003eOpenStreetMap\\u003c/a\\u003e, under \\u003ca target=\\&quot;_blank\\&quot; href=\\&quot;http://www.openstreetmap.org/copyright\\&quot;\\u003eODbL\\u003c/a\\u003e.&quot;, &quot;detectRetina&quot;: false, &quot;maxNativeZoom&quot;: 18, &quot;maxZoom&quot;: 18, &quot;minZoom&quot;: 0, &quot;noWrap&quot;: false, &quot;opacity&quot;: 1, &quot;subdomains&quot;: &quot;abc&quot;, &quot;tms&quot;: false}\n",
              "            ).addTo(map_1754d49cc426c184802a5fe2e5464be5);\n",
              "        \n",
              "    \n",
              "            var marker_6497c6466fb51a1e18f4625a0e9a7bba = L.marker(\n",
              "                [42.3647, -71.0542],\n",
              "                {}\n",
              "            ).addTo(map_1754d49cc426c184802a5fe2e5464be5);\n",
              "        \n",
              "    \n",
              "            var marker_8dbd47f9ce257f4863f55916eb47e80c = L.marker(\n",
              "                [42.3661, -71.0631],\n",
              "                {}\n",
              "            ).addTo(map_1754d49cc426c184802a5fe2e5464be5);\n",
              "        \n",
              "    \n",
              "            var marker_848a60ea392953b07dd2a635f800abb7 = L.marker(\n",
              "                [42.2148, -71.033],\n",
              "                {}\n",
              "            ).addTo(map_1754d49cc426c184802a5fe2e5464be5);\n",
              "        \n",
              "    \n",
              "            var marker_1fb6b49f84182ec2434571d0587ef328 = L.marker(\n",
              "                [42.3503, -71.081],\n",
              "                {}\n",
              "            ).addTo(map_1754d49cc426c184802a5fe2e5464be5);\n",
              "        \n",
              "    \n",
              "            var marker_3eeb6bfbbaa2115904928693c539c377 = L.marker(\n",
              "                [42.3519, -71.0643],\n",
              "                {}\n",
              "            ).addTo(map_1754d49cc426c184802a5fe2e5464be5);\n",
              "        \n",
              "    \n",
              "            var marker_deeec62099fe0b8d9f6855cc59bc3f29 = L.marker(\n",
              "                [42.3505, -71.1054],\n",
              "                {}\n",
              "            ).addTo(map_1754d49cc426c184802a5fe2e5464be5);\n",
              "        \n",
              "    \n",
              "            var marker_45c675036f1982553765f199a053d9ae = L.marker(\n",
              "                [42.3519, -71.0551],\n",
              "                {}\n",
              "            ).addTo(map_1754d49cc426c184802a5fe2e5464be5);\n",
              "        \n",
              "    \n",
              "            var marker_1f94478c8bdaae9f5102816c162701c7 = L.marker(\n",
              "                [42.3429, -71.1003],\n",
              "                {}\n",
              "            ).addTo(map_1754d49cc426c184802a5fe2e5464be5);\n",
              "        \n",
              "    \n",
              "            var marker_d7857302cf2850edbdccf2c031cd6e54 = L.marker(\n",
              "                [42.3644, -71.0661],\n",
              "                {}\n",
              "            ).addTo(map_1754d49cc426c184802a5fe2e5464be5);\n",
              "        \n",
              "    \n",
              "            var marker_63664edb7f18d91a3d4ccd402e4c4bac = L.marker(\n",
              "                [42.3588, -71.0707],\n",
              "                {}\n",
              "            ).addTo(map_1754d49cc426c184802a5fe2e5464be5);\n",
              "        \n",
              "    \n",
              "            var marker_9e3ebc66424739c6d51dfe5df9b26ac0 = L.marker(\n",
              "                [42.3398, -71.0892],\n",
              "                {}\n",
              "            ).addTo(map_1754d49cc426c184802a5fe2e5464be5);\n",
              "        \n",
              "    \n",
              "            var marker_a1ddcbdc241f67f6d8a033bee9eb28b2 = L.marker(\n",
              "                [42.3559, -71.055],\n",
              "                {}\n",
              "            ).addTo(map_1754d49cc426c184802a5fe2e5464be5);\n",
              "        \n",
              "&lt;/script&gt;\n",
              "&lt;/html&gt;\" style=\"position:absolute;width:100%;height:100%;left:0;top:0;border:none !important;\" allowfullscreen webkitallowfullscreen mozallowfullscreen></iframe></div></div>"
            ]
          },
          "metadata": {},
          "execution_count": 36
        }
      ]
    },
    {
      "cell_type": "code",
      "source": [
        "distances = dict(trimmed_columns_df['distance'].value_counts())\n",
        "distances_values = [str(i) for i in list(distances.keys())[:5]]\n",
        "\n",
        "fig,ax = plt.subplots()\n",
        "\n",
        "ax.pie(list(distances.values())[:5],labels=distances_values,autopct='%1.1f%%')\n",
        "\n",
        "plt.title('Top 5 distances of the rides')\n",
        "\n",
        "plt.show()"
      ],
      "metadata": {
        "colab": {
          "base_uri": "https://localhost:8080/",
          "height": 427
        },
        "id": "Xxfp7iMI6iDg",
        "outputId": "3bd3b844-7fa6-4ec1-b757-9ee922c70b68"
      },
      "execution_count": null,
      "outputs": [
        {
          "output_type": "display_data",
          "data": {
            "text/plain": [
              "<Figure size 640x480 with 1 Axes>"
            ],
            "image/png": "[encoded data removed]"
          },
          "metadata": {}
        }
      ]
    },
    {
      "cell_type": "code",
      "source": [
        "print('Maximum Temperature during the timeline of the data is:',max(trimmed_columns_df['temperature']),'Fahrenheit')\n",
        "print('Minimum Temperature during the timeline of the data is:',min(trimmed_columns_df['temperature']),'Fahrenheit')"
      ],
      "metadata": {
        "colab": {
          "base_uri": "https://localhost:8080/"
        },
        "id": "2Spd7DtCEJC3",
        "outputId": "1f28ae5a-189c-4868-821e-5d708256d7cb"
      },
      "execution_count": null,
      "outputs": [
        {
          "output_type": "stream",
          "name": "stdout",
          "text": [
            "Maximum Temperature during the timeline of the data is: 57.22 Fahrenheit\n",
            "Minimum Temperature during the timeline of the data is: 18.91 Fahrenheit\n"
          ]
        }
      ]
    },
    {
      "cell_type": "code",
      "source": [
        "time = dict(trimmed_columns_df['hour'].value_counts())\n",
        "\n",
        "time_values = []\n",
        "for i in time.keys():\n",
        "  if i > 12:\n",
        "    time_values.append(str(i-12) + ' PM')\n",
        "  elif i == 12:\n",
        "    time_values.append(str(i) + ' PM')\n",
        "  elif i < 12 and i !=0 :\n",
        "    time_values.append(str(i) + ' AM')\n",
        "  elif i == 0:\n",
        "    time_values.append(str(12) + ' AM')\n",
        "\n",
        "fig,ax = plt.subplots()\n",
        "\n",
        "ax.pie(list(time.values())[:5],labels=time_values[:5],autopct='%1.1f%%')\n",
        "\n",
        "plt.title('Top 5 times when rides were booked')\n",
        "\n",
        "plt.show()"
      ],
      "metadata": {
        "colab": {
          "base_uri": "https://localhost:8080/",
          "height": 427
        },
        "id": "NXm_4bJwOXJG",
        "outputId": "0e5f2768-e898-4793-fe2b-abd3baa25b40"
      },
      "execution_count": null,
      "outputs": [
        {
          "output_type": "display_data",
          "data": {
            "text/plain": [
              "<Figure size 640x480 with 1 Axes>"
            ],
            "image/png": "[encoded data removed]"
          },
          "metadata": {}
        }
      ]
    },
    {
      "cell_type": "code",
      "source": [
        "weather = dict(trimmed_columns_df['short_summary'].value_counts())\n",
        "\n",
        "fig,ax = plt.subplots(figsize=(10,5))\n",
        "\n",
        "ax.bar(list(weather.keys())[:5], list(weather.values())[:5])\n",
        "\n",
        "plt.title('Weather Conditions observed in the dataset')\n",
        "\n",
        "for i, v in enumerate(list(weather.values())[:5]):\n",
        "    plt.text( i ,v+0.05 , str(v))\n",
        "\n",
        "plt.show()"
      ],
      "metadata": {
        "colab": {
          "base_uri": "https://localhost:8080/",
          "height": 467
        },
        "id": "J3w3FW52TTaa",
        "outputId": "17650b7c-2040-497d-d564-fec3593ab5e4"
      },
      "execution_count": null,
      "outputs": [
        {
          "output_type": "display_data",
          "data": {
            "text/plain": [
              "<Figure size 1000x500 with 1 Axes>"
            ],
            "image/png": "[encoded data removed]"
          },
          "metadata": {}
        }
      ]
    },
    {
      "cell_type": "code",
      "source": [
        "cab = dict(trimmed_columns_df['cab_type'].value_counts())\n",
        "\n",
        "fig,ax = plt.subplots(figsize=(10,5))\n",
        "\n",
        "ax.pie(list(cab.values()),labels=list(cab.keys()),autopct='%1.1f%%')\n",
        "\n",
        "plt.title('Market Share of Uber and Lyft in the dataset')\n",
        "\n",
        "plt.show()"
      ],
      "metadata": {
        "colab": {
          "base_uri": "https://localhost:8080/",
          "height": 444
        },
        "id": "7zjzHcL7U3JN",
        "outputId": "efbbf660-055f-49df-c1ac-e9376820489f"
      },
      "execution_count": null,
      "outputs": [
        {
          "output_type": "display_data",
          "data": {
            "text/plain": [
              "<Figure size 1000x500 with 1 Axes>"
            ],
            "image/png": "[encoded data removed]"
          },
          "metadata": {}
        }
      ]
    },
    {
      "cell_type": "code",
      "source": [
        "sample = trimmed_columns_df[['day','price','distance','temperature']].groupby('day').mean()\n",
        "\n",
        "sample.reset_index(inplace=True)\n",
        "\n",
        "fig, (ax1,ax2,ax3) = plt.subplots(1,3,sharex=True,figsize=(12,4))\n",
        "\n",
        "ax1.plot(sample['day'],sample['price'])\n",
        "ax1.set_title('Avg Price vs Day')\n",
        "ax1.set_xlabel('Day')\n",
        "\n",
        "ax2.plot(sample['day'],sample['distance'])\n",
        "ax2.set_title('Avg Distance vs Day')\n",
        "ax2.set_xlabel('Day')\n",
        "\n",
        "ax3.plot(sample['day'],sample['temperature'])\n",
        "ax3.set_title('Avg Temperature vs Day')\n",
        "ax3.set_xlabel('Day')\n",
        "\n",
        "plt.show()"
      ],
      "metadata": {
        "colab": {
          "base_uri": "https://localhost:8080/",
          "height": 410
        },
        "id": "3ekbxVjaXWhp",
        "outputId": "b5ab20ee-44fd-4018-8339-515b2a9e8e03"
      },
      "execution_count": null,
      "outputs": [
        {
          "output_type": "display_data",
          "data": {
            "text/plain": [
              "<Figure size 1200x400 with 3 Axes>"
            ],
            "image/png": "[encoded data removed]"
          },
          "metadata": {}
        }
      ]
    },
    {
      "cell_type": "code",
      "source": [
        "destination = dict(trimmed_columns_df['destination'].value_counts())\n",
        "\n",
        "fig,ax = plt.subplots(figsize=(10,5))\n",
        "\n",
        "ax.pie(list(destination.values())[:5],labels=list(destination.keys())[:5],autopct='%1.1f%%')\n",
        "\n",
        "plt.title('Top 5 Destination Locations')\n",
        "\n",
        "plt.show()"
      ],
      "metadata": {
        "colab": {
          "base_uri": "https://localhost:8080/",
          "height": 444
        },
        "id": "uC-7YzPAUPNu",
        "outputId": "78c04d8c-d02d-40d9-9148-b04b08aad94a"
      },
      "execution_count": null,
      "outputs": [
        {
          "output_type": "display_data",
          "data": {
            "text/plain": [
              "<Figure size 1000x500 with 1 Axes>"
            ],
            "image/png": "[encoded data removed]"
          },
          "metadata": {}
        }
      ]
    },
    {
      "cell_type": "code",
      "source": [
        "source = dict(trimmed_columns_df['source'].value_counts())\n",
        "\n",
        "fig,ax = plt.subplots(figsize=(10,5))\n",
        "\n",
        "ax.pie(list(source.values())[:5],labels=list(source.keys())[:5],autopct='%1.1f%%')\n",
        "\n",
        "plt.title('Top 5 Sources Locations')\n",
        "\n",
        "plt.show()"
      ],
      "metadata": {
        "colab": {
          "base_uri": "https://localhost:8080/",
          "height": 444
        },
        "id": "iRv1YnxUYrDf",
        "outputId": "cf789730-0c72-46b4-dae8-4f67e3ae7dce"
      },
      "execution_count": null,
      "outputs": [
        {
          "output_type": "display_data",
          "data": {
            "text/plain": [
              "<Figure size 1000x500 with 1 Axes>"
            ],
            "image/png": "[encoded data removed]"
          },
          "metadata": {}
        }
      ]
    },
    {
      "cell_type": "code",
      "source": [
        "surge_multiplier = dict(trimmed_columns_df['surge_multiplier'].value_counts())\n",
        "\n",
        "fig,ax = plt.subplots(figsize=(13,5))\n",
        "\n",
        "ax.plot(list(surge_multiplier.keys()),list(surge_multiplier.values()))\n",
        "\n",
        "plt.title('Surge Multipliers')\n",
        "\n",
        "for i, v in surge_multiplier.items():\n",
        "    plt.text( i,v+0.05, str(v))"
      ],
      "metadata": {
        "colab": {
          "base_uri": "https://localhost:8080/",
          "height": 467
        },
        "id": "IV7igFc3yBq9",
        "outputId": "e840e9f0-ab97-4bcd-ce3b-9fbb72fcd09b"
      },
      "execution_count": null,
      "outputs": [
        {
          "output_type": "display_data",
          "data": {
            "text/plain": [
              "<Figure size 1300x500 with 1 Axes>"
            ],
            "image/png": "[encoded data removed]"
          },
          "metadata": {}
        }
      ]
    },
    {
      "cell_type": "code",
      "source": [
        "routes = []\n",
        "for i,j in zip(trimmed_columns_df['source'],trimmed_columns_df['destination']):\n",
        "  routes.append(str(i) + ' -> ' + str(j))\n",
        "\n",
        "routes = pd.Series(routes,index=trimmed_columns_df.index)\n",
        "\n",
        "trimmed_columns_df['routes'] = routes"
      ],
      "metadata": {
        "id": "g3Tx3MWV0hK5"
      },
      "execution_count": null,
      "outputs": []
    },
    {
      "cell_type": "code",
      "source": [
        "route = dict(trimmed_columns_df['routes'].value_counts()[:10])\n",
        "\n",
        "plt.barh(list(route.keys()),list(route.values()))\n",
        "\n",
        "plt.title('Most Followed Routes')\n",
        "\n",
        "plt.show()"
      ],
      "metadata": {
        "colab": {
          "base_uri": "https://localhost:8080/",
          "height": 452
        },
        "id": "JWxCopWs2ia_",
        "outputId": "7e771378-41fc-49f4-d76f-13a28b178486"
      },
      "execution_count": null,
      "outputs": [
        {
          "output_type": "display_data",
          "data": {
            "text/plain": [
              "<Figure size 640x480 with 1 Axes>"
            ],
            "image/png": "[encoded data removed]"
          },
          "metadata": {}
        }
      ]
    },
    {
      "cell_type": "code",
      "source": [
        "most_surge_multiplied = trimmed_columns_df[trimmed_columns_df['surge_multiplier'] == 3]"
      ],
      "metadata": {
        "id": "kHD8Mc8Bf0hr"
      },
      "execution_count": null,
      "outputs": []
    },
    {
      "cell_type": "code",
      "source": [
        "most_surge_multiplied.groupby(by='cab_type').count()"
      ],
      "metadata": {
        "colab": {
          "base_uri": "https://localhost:8080/",
          "height": 110
        },
        "id": "8Ej4391rgqsk",
        "outputId": "c4a657d4-dc9d-4350-a267-50d24e44778a"
      },
      "execution_count": null,
      "outputs": [
        {
          "output_type": "execute_result",
          "data": {
            "text/plain": [
              "          hour  day  source  destination  name  price  distance  \\\n",
              "cab_type                                                          \n",
              "Lyft         2    2       2            2     2      2         2   \n",
              "\n",
              "          surge_multiplier  latitude  longitude  temperature  short_summary  \\\n",
              "cab_type                                                                      \n",
              "Lyft                     2         2          2            2              2   \n",
              "\n",
              "          routes  \n",
              "cab_type          \n",
              "Lyft           2  "
            ],
            "text/html": [
              "\n",
              "  <div id=\"df-7bae7b8f-7ecd-4f73-bed9-409478f10fd9\">\n",
              "    <div class=\"colab-df-container\">\n",
              "      <div>\n",
              "<style scoped>\n",
              "    .dataframe tbody tr th:only-of-type {\n",
              "        vertical-align: middle;\n",
              "    }\n",
              "\n",
              "    .dataframe tbody tr th {\n",
              "        vertical-align: top;\n",
              "    }\n",
              "\n",
              "    .dataframe thead th {\n",
              "        text-align: right;\n",
              "    }\n",
              "</style>\n",
              "<table border=\"1\" class=\"dataframe\">\n",
              "  <thead>\n",
              "    <tr style=\"text-align: right;\">\n",
              "      <th></th>\n",
              "      <th>hour</th>\n",
              "      <th>day</th>\n",
              "      <th>source</th>\n",
              "      <th>destination</th>\n",
              "      <th>name</th>\n",
              "      <th>price</th>\n",
              "      <th>distance</th>\n",
              "      <th>surge_multiplier</th>\n",
              "      <th>latitude</th>\n",
              "      <th>longitude</th>\n",
              "      <th>temperature</th>\n",
              "      <th>short_summary</th>\n",
              "      <th>routes</th>\n",
              "    </tr>\n",
              "    <tr>\n",
              "      <th>cab_type</th>\n",
              "      <th></th>\n",
              "      <th></th>\n",
              "      <th></th>\n",
              "      <th></th>\n",
              "      <th></th>\n",
              "      <th></th>\n",
              "      <th></th>\n",
              "      <th></th>\n",
              "      <th></th>\n",
              "      <th></th>\n",
              "      <th></th>\n",
              "      <th></th>\n",
              "      <th></th>\n",
              "    </tr>\n",
              "  </thead>\n",
              "  <tbody>\n",
              "    <tr>\n",
              "      <th>Lyft</th>\n",
              "      <td>2</td>\n",
              "      <td>2</td>\n",
              "      <td>2</td>\n",
              "      <td>2</td>\n",
              "      <td>2</td>\n",
              "      <td>2</td>\n",
              "      <td>2</td>\n",
              "      <td>2</td>\n",
              "      <td>2</td>\n",
              "      <td>2</td>\n",
              "      <td>2</td>\n",
              "      <td>2</td>\n",
              "      <td>2</td>\n",
              "    </tr>\n",
              "  </tbody>\n",
              "</table>\n",
              "</div>\n",
              "      <button class=\"colab-df-convert\" onclick=\"convertToInteractive('df-7bae7b8f-7ecd-4f73-bed9-409478f10fd9')\"\n",
              "              title=\"Convert this dataframe to an interactive table.\"\n",
              "              style=\"display:none;\">\n",
              "        \n",
              "  <svg xmlns=\"http://www.w3.org/2000/svg\" height=\"24px\"viewBox=\"0 0 24 24\"\n",
              "       width=\"24px\">\n",
              "    <path d=\"M0 0h24v24H0V0z\" fill=\"none\"/>\n",
              "    <path d=\"M18.56 5.44l.94 2.06.94-2.06 2.06-.94-2.06-.94-.94-2.06-.94 2.06-2.06.94zm-11 1L8.5 8.5l.94-2.06 2.06-.94-2.06-.94L8.5 2.5l-.94 2.06-2.06.94zm10 10l.94 2.06.94-2.06 2.06-.94-2.06-.94-.94-2.06-.94 2.06-2.06.94z\"/><path d=\"M17.41 7.96l-1.37-1.37c-.4-.4-.92-.59-1.43-.59-.52 0-1.04.2-1.43.59L10.3 9.45l-7.72 7.72c-.78.78-.78 2.05 0 2.83L4 21.41c.39.39.9.59 1.41.59.51 0 1.02-.2 1.41-.59l7.78-7.78 2.81-2.81c.8-.78.8-2.07 0-2.86zM5.41 20L4 18.59l7.72-7.72 1.47 1.35L5.41 20z\"/>\n",
              "  </svg>\n",
              "      </button>\n",
              "      \n",
              "  <style>\n",
              "    .colab-df-container {\n",
              "      display:flex;\n",
              "      flex-wrap:wrap;\n",
              "      gap: 12px;\n",
              "    }\n",
              "\n",
              "    .colab-df-convert {\n",
              "      background-color: #E8F0FE;\n",
              "      border: none;\n",
              "      border-radius: 50%;\n",
              "      cursor: pointer;\n",
              "      display: none;\n",
              "      fill: #1967D2;\n",
              "      height: 32px;\n",
              "      padding: 0 0 0 0;\n",
              "      width: 32px;\n",
              "    }\n",
              "\n",
              "    .colab-df-convert:hover {\n",
              "      background-color: #E2EBFA;\n",
              "      box-shadow: 0px 1px 2px rgba(60, 64, 67, 0.3), 0px 1px 3px 1px rgba(60, 64, 67, 0.15);\n",
              "      fill: #174EA6;\n",
              "    }\n",
              "\n",
              "    [theme=dark] .colab-df-convert {\n",
              "      background-color: #3B4455;\n",
              "      fill: #D2E3FC;\n",
              "    }\n",
              "\n",
              "    [theme=dark] .colab-df-convert:hover {\n",
              "      background-color: #434B5C;\n",
              "      box-shadow: 0px 1px 3px 1px rgba(0, 0, 0, 0.15);\n",
              "      filter: drop-shadow(0px 1px 2px rgba(0, 0, 0, 0.3));\n",
              "      fill: #FFFFFF;\n",
              "    }\n",
              "  </style>\n",
              "\n",
              "      <script>\n",
              "        const buttonEl =\n",
              "          document.querySelector('#df-7bae7b8f-7ecd-4f73-bed9-409478f10fd9 button.colab-df-convert');\n",
              "        buttonEl.style.display =\n",
              "          google.colab.kernel.accessAllowed ? 'block' : 'none';\n",
              "\n",
              "        async function convertToInteractive(key) {\n",
              "          const element = document.querySelector('#df-7bae7b8f-7ecd-4f73-bed9-409478f10fd9');\n",
              "          const dataTable =\n",
              "            await google.colab.kernel.invokeFunction('convertToInteractive',\n",
              "                                                     [key], {});\n",
              "          if (!dataTable) return;\n",
              "\n",
              "          const docLinkHtml = 'Like what you see? Visit the ' +\n",
              "            '<a target=\"_blank\" href=https://colab.research.google.com/notebooks/data_table.ipynb>data table notebook</a>'\n",
              "            + ' to learn more about interactive tables.';\n",
              "          element.innerHTML = '';\n",
              "          dataTable['output_type'] = 'display_data';\n",
              "          await google.colab.output.renderOutput(dataTable, element);\n",
              "          const docLink = document.createElement('div');\n",
              "          docLink.innerHTML = docLinkHtml;\n",
              "          element.appendChild(docLink);\n",
              "        }\n",
              "      </script>\n",
              "    </div>\n",
              "  </div>\n",
              "  "
            ]
          },
          "metadata": {},
          "execution_count": 49
        }
      ]
    },
    {
      "cell_type": "code",
      "source": [
        "most_surge_multiplied[most_surge_multiplied['destination'] == 'Boston University']"
      ],
      "metadata": {
        "colab": {
          "base_uri": "https://localhost:8080/",
          "height": 110
        },
        "id": "ItFJnMSjg8pE",
        "outputId": "88ab2f1b-a893-4b5b-e582-a2ffba1a5531"
      },
      "execution_count": null,
      "outputs": [
        {
          "output_type": "execute_result",
          "data": {
            "text/plain": [
              "       hour  day            source        destination cab_type     name  \\\n",
              "71555    22   27  Theatre District  Boston University     Lyft  Lyft XL   \n",
              "71556    23   16  Theatre District  Boston University     Lyft     Lyft   \n",
              "\n",
              "       price  distance  surge_multiplier  latitude  longitude  temperature  \\\n",
              "71555   62.5      4.64               3.0   42.3519   -71.0643        40.88   \n",
              "71556   38.0      4.64               3.0   42.3647   -71.0542        41.29   \n",
              "\n",
              "         short_summary                                 routes  \n",
              "71555   Partly Cloudy   Theatre District -> Boston University  \n",
              "71556      Light Rain   Theatre District -> Boston University  "
            ],
            "text/html": [
              "\n",
              "  <div id=\"df-39cf8648-1d7d-4327-88fd-d448a5b32f18\">\n",
              "    <div class=\"colab-df-container\">\n",
              "      <div>\n",
              "<style scoped>\n",
              "    .dataframe tbody tr th:only-of-type {\n",
              "        vertical-align: middle;\n",
              "    }\n",
              "\n",
              "    .dataframe tbody tr th {\n",
              "        vertical-align: top;\n",
              "    }\n",
              "\n",
              "    .dataframe thead th {\n",
              "        text-align: right;\n",
              "    }\n",
              "</style>\n",
              "<table border=\"1\" class=\"dataframe\">\n",
              "  <thead>\n",
              "    <tr style=\"text-align: right;\">\n",
              "      <th></th>\n",
              "      <th>hour</th>\n",
              "      <th>day</th>\n",
              "      <th>source</th>\n",
              "      <th>destination</th>\n",
              "      <th>cab_type</th>\n",
              "      <th>name</th>\n",
              "      <th>price</th>\n",
              "      <th>distance</th>\n",
              "      <th>surge_multiplier</th>\n",
              "      <th>latitude</th>\n",
              "      <th>longitude</th>\n",
              "      <th>temperature</th>\n",
              "      <th>short_summary</th>\n",
              "      <th>routes</th>\n",
              "    </tr>\n",
              "  </thead>\n",
              "  <tbody>\n",
              "    <tr>\n",
              "      <th>71555</th>\n",
              "      <td>22</td>\n",
              "      <td>27</td>\n",
              "      <td>Theatre District</td>\n",
              "      <td>Boston University</td>\n",
              "      <td>Lyft</td>\n",
              "      <td>Lyft XL</td>\n",
              "      <td>62.5</td>\n",
              "      <td>4.64</td>\n",
              "      <td>3.0</td>\n",
              "      <td>42.3519</td>\n",
              "      <td>-71.0643</td>\n",
              "      <td>40.88</td>\n",
              "      <td>Partly Cloudy</td>\n",
              "      <td>Theatre District -&gt; Boston University</td>\n",
              "    </tr>\n",
              "    <tr>\n",
              "      <th>71556</th>\n",
              "      <td>23</td>\n",
              "      <td>16</td>\n",
              "      <td>Theatre District</td>\n",
              "      <td>Boston University</td>\n",
              "      <td>Lyft</td>\n",
              "      <td>Lyft</td>\n",
              "      <td>38.0</td>\n",
              "      <td>4.64</td>\n",
              "      <td>3.0</td>\n",
              "      <td>42.3647</td>\n",
              "      <td>-71.0542</td>\n",
              "      <td>41.29</td>\n",
              "      <td>Light Rain</td>\n",
              "      <td>Theatre District -&gt; Boston University</td>\n",
              "    </tr>\n",
              "  </tbody>\n",
              "</table>\n",
              "</div>\n",
              "      <button class=\"colab-df-convert\" onclick=\"convertToInteractive('df-39cf8648-1d7d-4327-88fd-d448a5b32f18')\"\n",
              "              title=\"Convert this dataframe to an interactive table.\"\n",
              "              style=\"display:none;\">\n",
              "        \n",
              "  <svg xmlns=\"http://www.w3.org/2000/svg\" height=\"24px\"viewBox=\"0 0 24 24\"\n",
              "       width=\"24px\">\n",
              "    <path d=\"M0 0h24v24H0V0z\" fill=\"none\"/>\n",
              "    <path d=\"M18.56 5.44l.94 2.06.94-2.06 2.06-.94-2.06-.94-.94-2.06-.94 2.06-2.06.94zm-11 1L8.5 8.5l.94-2.06 2.06-.94-2.06-.94L8.5 2.5l-.94 2.06-2.06.94zm10 10l.94 2.06.94-2.06 2.06-.94-2.06-.94-.94-2.06-.94 2.06-2.06.94z\"/><path d=\"M17.41 7.96l-1.37-1.37c-.4-.4-.92-.59-1.43-.59-.52 0-1.04.2-1.43.59L10.3 9.45l-7.72 7.72c-.78.78-.78 2.05 0 2.83L4 21.41c.39.39.9.59 1.41.59.51 0 1.02-.2 1.41-.59l7.78-7.78 2.81-2.81c.8-.78.8-2.07 0-2.86zM5.41 20L4 18.59l7.72-7.72 1.47 1.35L5.41 20z\"/>\n",
              "  </svg>\n",
              "      </button>\n",
              "      \n",
              "  <style>\n",
              "    .colab-df-container {\n",
              "      display:flex;\n",
              "      flex-wrap:wrap;\n",
              "      gap: 12px;\n",
              "    }\n",
              "\n",
              "    .colab-df-convert {\n",
              "      background-color: #E8F0FE;\n",
              "      border: none;\n",
              "      border-radius: 50%;\n",
              "      cursor: pointer;\n",
              "      display: none;\n",
              "      fill: #1967D2;\n",
              "      height: 32px;\n",
              "      padding: 0 0 0 0;\n",
              "      width: 32px;\n",
              "    }\n",
              "\n",
              "    .colab-df-convert:hover {\n",
              "      background-color: #E2EBFA;\n",
              "      box-shadow: 0px 1px 2px rgba(60, 64, 67, 0.3), 0px 1px 3px 1px rgba(60, 64, 67, 0.15);\n",
              "      fill: #174EA6;\n",
              "    }\n",
              "\n",
              "    [theme=dark] .colab-df-convert {\n",
              "      background-color: #3B4455;\n",
              "      fill: #D2E3FC;\n",
              "    }\n",
              "\n",
              "    [theme=dark] .colab-df-convert:hover {\n",
              "      background-color: #434B5C;\n",
              "      box-shadow: 0px 1px 3px 1px rgba(0, 0, 0, 0.15);\n",
              "      filter: drop-shadow(0px 1px 2px rgba(0, 0, 0, 0.3));\n",
              "      fill: #FFFFFF;\n",
              "    }\n",
              "  </style>\n",
              "\n",
              "      <script>\n",
              "        const buttonEl =\n",
              "          document.querySelector('#df-39cf8648-1d7d-4327-88fd-d448a5b32f18 button.colab-df-convert');\n",
              "        buttonEl.style.display =\n",
              "          google.colab.kernel.accessAllowed ? 'block' : 'none';\n",
              "\n",
              "        async function convertToInteractive(key) {\n",
              "          const element = document.querySelector('#df-39cf8648-1d7d-4327-88fd-d448a5b32f18');\n",
              "          const dataTable =\n",
              "            await google.colab.kernel.invokeFunction('convertToInteractive',\n",
              "                                                     [key], {});\n",
              "          if (!dataTable) return;\n",
              "\n",
              "          const docLinkHtml = 'Like what you see? Visit the ' +\n",
              "            '<a target=\"_blank\" href=https://colab.research.google.com/notebooks/data_table.ipynb>data table notebook</a>'\n",
              "            + ' to learn more about interactive tables.';\n",
              "          element.innerHTML = '';\n",
              "          dataTable['output_type'] = 'display_data';\n",
              "          await google.colab.output.renderOutput(dataTable, element);\n",
              "          const docLink = document.createElement('div');\n",
              "          docLink.innerHTML = docLinkHtml;\n",
              "          element.appendChild(docLink);\n",
              "        }\n",
              "      </script>\n",
              "    </div>\n",
              "  </div>\n",
              "  "
            ]
          },
          "metadata": {},
          "execution_count": 50
        }
      ]
    },
    {
      "cell_type": "code",
      "source": [
        "most_surge_multiplied[most_surge_multiplied['source'] == 'Back Bay']"
      ],
      "metadata": {
        "colab": {
          "base_uri": "https://localhost:8080/",
          "height": 48
        },
        "id": "neREDRKShenk",
        "outputId": "20d2bb8e-7d1a-4ab7-c223-392d8923e3a4"
      },
      "execution_count": null,
      "outputs": [
        {
          "output_type": "execute_result",
          "data": {
            "text/plain": [
              "Empty DataFrame\n",
              "Columns: [hour, day, source, destination, cab_type, name, price, distance, surge_multiplier, latitude, longitude, temperature, short_summary, routes]\n",
              "Index: []"
            ],
            "text/html": [
              "\n",
              "  <div id=\"df-a03b454f-6f69-4914-bed4-0c76b71a4bb6\">\n",
              "    <div class=\"colab-df-container\">\n",
              "      <div>\n",
              "<style scoped>\n",
              "    .dataframe tbody tr th:only-of-type {\n",
              "        vertical-align: middle;\n",
              "    }\n",
              "\n",
              "    .dataframe tbody tr th {\n",
              "        vertical-align: top;\n",
              "    }\n",
              "\n",
              "    .dataframe thead th {\n",
              "        text-align: right;\n",
              "    }\n",
              "</style>\n",
              "<table border=\"1\" class=\"dataframe\">\n",
              "  <thead>\n",
              "    <tr style=\"text-align: right;\">\n",
              "      <th></th>\n",
              "      <th>hour</th>\n",
              "      <th>day</th>\n",
              "      <th>source</th>\n",
              "      <th>destination</th>\n",
              "      <th>cab_type</th>\n",
              "      <th>name</th>\n",
              "      <th>price</th>\n",
              "      <th>distance</th>\n",
              "      <th>surge_multiplier</th>\n",
              "      <th>latitude</th>\n",
              "      <th>longitude</th>\n",
              "      <th>temperature</th>\n",
              "      <th>short_summary</th>\n",
              "      <th>routes</th>\n",
              "    </tr>\n",
              "  </thead>\n",
              "  <tbody>\n",
              "  </tbody>\n",
              "</table>\n",
              "</div>\n",
              "      <button class=\"colab-df-convert\" onclick=\"convertToInteractive('df-a03b454f-6f69-4914-bed4-0c76b71a4bb6')\"\n",
              "              title=\"Convert this dataframe to an interactive table.\"\n",
              "              style=\"display:none;\">\n",
              "        \n",
              "  <svg xmlns=\"http://www.w3.org/2000/svg\" height=\"24px\"viewBox=\"0 0 24 24\"\n",
              "       width=\"24px\">\n",
              "    <path d=\"M0 0h24v24H0V0z\" fill=\"none\"/>\n",
              "    <path d=\"M18.56 5.44l.94 2.06.94-2.06 2.06-.94-2.06-.94-.94-2.06-.94 2.06-2.06.94zm-11 1L8.5 8.5l.94-2.06 2.06-.94-2.06-.94L8.5 2.5l-.94 2.06-2.06.94zm10 10l.94 2.06.94-2.06 2.06-.94-2.06-.94-.94-2.06-.94 2.06-2.06.94z\"/><path d=\"M17.41 7.96l-1.37-1.37c-.4-.4-.92-.59-1.43-.59-.52 0-1.04.2-1.43.59L10.3 9.45l-7.72 7.72c-.78.78-.78 2.05 0 2.83L4 21.41c.39.39.9.59 1.41.59.51 0 1.02-.2 1.41-.59l7.78-7.78 2.81-2.81c.8-.78.8-2.07 0-2.86zM5.41 20L4 18.59l7.72-7.72 1.47 1.35L5.41 20z\"/>\n",
              "  </svg>\n",
              "      </button>\n",
              "      \n",
              "  <style>\n",
              "    .colab-df-container {\n",
              "      display:flex;\n",
              "      flex-wrap:wrap;\n",
              "      gap: 12px;\n",
              "    }\n",
              "\n",
              "    .colab-df-convert {\n",
              "      background-color: #E8F0FE;\n",
              "      border: none;\n",
              "      border-radius: 50%;\n",
              "      cursor: pointer;\n",
              "      display: none;\n",
              "      fill: #1967D2;\n",
              "      height: 32px;\n",
              "      padding: 0 0 0 0;\n",
              "      width: 32px;\n",
              "    }\n",
              "\n",
              "    .colab-df-convert:hover {\n",
              "      background-color: #E2EBFA;\n",
              "      box-shadow: 0px 1px 2px rgba(60, 64, 67, 0.3), 0px 1px 3px 1px rgba(60, 64, 67, 0.15);\n",
              "      fill: #174EA6;\n",
              "    }\n",
              "\n",
              "    [theme=dark] .colab-df-convert {\n",
              "      background-color: #3B4455;\n",
              "      fill: #D2E3FC;\n",
              "    }\n",
              "\n",
              "    [theme=dark] .colab-df-convert:hover {\n",
              "      background-color: #434B5C;\n",
              "      box-shadow: 0px 1px 3px 1px rgba(0, 0, 0, 0.15);\n",
              "      filter: drop-shadow(0px 1px 2px rgba(0, 0, 0, 0.3));\n",
              "      fill: #FFFFFF;\n",
              "    }\n",
              "  </style>\n",
              "\n",
              "      <script>\n",
              "        const buttonEl =\n",
              "          document.querySelector('#df-a03b454f-6f69-4914-bed4-0c76b71a4bb6 button.colab-df-convert');\n",
              "        buttonEl.style.display =\n",
              "          google.colab.kernel.accessAllowed ? 'block' : 'none';\n",
              "\n",
              "        async function convertToInteractive(key) {\n",
              "          const element = document.querySelector('#df-a03b454f-6f69-4914-bed4-0c76b71a4bb6');\n",
              "          const dataTable =\n",
              "            await google.colab.kernel.invokeFunction('convertToInteractive',\n",
              "                                                     [key], {});\n",
              "          if (!dataTable) return;\n",
              "\n",
              "          const docLinkHtml = 'Like what you see? Visit the ' +\n",
              "            '<a target=\"_blank\" href=https://colab.research.google.com/notebooks/data_table.ipynb>data table notebook</a>'\n",
              "            + ' to learn more about interactive tables.';\n",
              "          element.innerHTML = '';\n",
              "          dataTable['output_type'] = 'display_data';\n",
              "          await google.colab.output.renderOutput(dataTable, element);\n",
              "          const docLink = document.createElement('div');\n",
              "          docLink.innerHTML = docLinkHtml;\n",
              "          element.appendChild(docLink);\n",
              "        }\n",
              "      </script>\n",
              "    </div>\n",
              "  </div>\n",
              "  "
            ]
          },
          "metadata": {},
          "execution_count": 51
        }
      ]
    },
    {
      "cell_type": "code",
      "source": [
        "\n",
        "\n",
        "\n",
        "# compute the correlation matrix between all features and the target variable\n",
        "corr_matrix = df.corr()['price']\n",
        "\n",
        "# print the correlation values in descending order\n",
        "print(corr_matrix.sort_values(ascending=False))\n",
        "\n",
        "\n",
        "variance = df.var()\n",
        "\n",
        "# print the variance of each feature in descending order\n",
        "print('\\n',variance.sort_values(ascending=False))"
      ],
      "metadata": {
        "id": "Y6wkoQojr4tH",
        "colab": {
          "base_uri": "https://localhost:8080/"
        },
        "outputId": "3ef13b32-f96d-4174-9936-cd05b699c2f0"
      },
      "execution_count": null,
      "outputs": [
        {
          "output_type": "stream",
          "name": "stdout",
          "text": [
            "price                          1.000000\n",
            "distance                       0.346452\n",
            "surge_multiplier               0.244445\n",
            "latitude                       0.005181\n",
            "cloudCover                     0.004451\n",
            "windGust                       0.003448\n",
            "windBearing                    0.003202\n",
            "humidity                       0.002918\n",
            "windSpeed                      0.002813\n",
            "dewPoint                       0.002784\n",
            "precipIntensityMax             0.001896\n",
            "moonPhase                      0.001784\n",
            "temperature                    0.001539\n",
            "apparentTemperatureMax         0.001141\n",
            "apparentTemperature            0.001066\n",
            "apparentTemperatureLow         0.001050\n",
            "month                          0.001016\n",
            "hour                           0.000946\n",
            "uvIndex                        0.000823\n",
            "apparentTemperatureHigh        0.000745\n",
            "precipIntensity                0.000718\n",
            "temperatureMax                 0.000576\n",
            "precipProbability              0.000460\n",
            "temperatureMin                 0.000398\n",
            "temperatureHigh                0.000316\n",
            "apparentTemperatureMin         0.000261\n",
            "temperatureLow                 0.000022\n",
            "ozone                         -0.000006\n",
            "visibility                    -0.000787\n",
            "visibility.1                  -0.000787\n",
            "timestamp                     -0.001013\n",
            "apparentTemperatureMinTime    -0.001024\n",
            "temperatureMinTime            -0.001026\n",
            "uvIndexTime                   -0.001050\n",
            "sunriseTime                   -0.001057\n",
            "sunsetTime                    -0.001057\n",
            "temperatureHighTime           -0.001059\n",
            "temperatureMaxTime            -0.001070\n",
            "apparentTemperatureHighTime   -0.001073\n",
            "apparentTemperatureLowTime    -0.001074\n",
            "temperatureLowTime            -0.001078\n",
            "windGustTime                  -0.001078\n",
            "apparentTemperatureMaxTime    -0.001097\n",
            "pressure                      -0.002252\n",
            "day                           -0.002345\n",
            "longitude                     -0.005226\n",
            "Name: price, dtype: float64\n",
            "\n",
            " apparentTemperatureHighTime    4.800984e+11\n",
            "temperatureHighTime            4.795452e+11\n",
            "apparentTemperatureLowTime     4.782608e+11\n",
            "windGustTime                   4.779366e+11\n",
            "temperatureLowTime             4.776009e+11\n",
            "uvIndexTime                    4.760308e+11\n",
            "sunriseTime                    4.759458e+11\n",
            "apparentTemperatureMaxTime     4.758414e+11\n",
            "sunsetTime                     4.752895e+11\n",
            "temperatureMinTime             4.747762e+11\n",
            "temperatureMaxTime             4.745403e+11\n",
            "timestamp                      4.731691e+11\n",
            "apparentTemperatureMinTime     4.704552e+11\n",
            "windBearing                    9.815642e+03\n",
            "ozone                          7.802728e+02\n",
            "pressure                       1.818004e+02\n",
            "day                            9.987138e+01\n",
            "price                          8.781156e+01\n",
            "dewPoint                       8.384553e+01\n",
            "apparentTemperatureLow         6.422640e+01\n",
            "apparentTemperature            6.259568e+01\n",
            "apparentTemperatureHigh        5.848683e+01\n",
            "apparentTemperatureMin         5.066215e+01\n",
            "hour                           4.872393e+01\n",
            "apparentTemperatureMax         4.807114e+01\n",
            "temperature                    4.532366e+01\n",
            "temperatureMin                 4.202644e+01\n",
            "temperatureLow                 4.064682e+01\n",
            "temperatureHigh                3.584008e+01\n",
            "temperatureMax                 3.183808e+01\n",
            "windGust                       2.789813e+01\n",
            "windSpeed                      9.908155e+00\n",
            "visibility.1                   6.740648e+00\n",
            "visibility                     6.740648e+00\n",
            "distance                       1.310902e+00\n",
            "month                          2.436346e-01\n",
            "uvIndex                        2.215621e-01\n",
            "cloudCover                     1.286504e-01\n",
            "precipProbability              1.079733e-01\n",
            "moonPhase                      5.952756e-02\n",
            "humidity                       1.923943e-02\n",
            "surge_multiplier               9.509854e-03\n",
            "precipIntensityMax             3.045823e-03\n",
            "latitude                       2.292943e-03\n",
            "precipIntensity                7.288557e-04\n",
            "longitude                      4.137311e-04\n",
            "dtype: float64\n"
          ]
        },
        {
          "output_type": "stream",
          "name": "stderr",
          "text": [
            "<ipython-input-52-13daf803f277>:8: FutureWarning: Dropping of nuisance columns in DataFrame reductions (with 'numeric_only=None') is deprecated; in a future version this will raise TypeError.  Select only valid columns before calling the reduction.\n",
            "  variance = df.var()\n"
          ]
        }
      ]
    },
    {
      "cell_type": "code",
      "source": [
        "df = df.drop(['id','timestamp','month','datetime','timezone','product_id',\n",
        "                              'precipIntensity','precipProbability',\n",
        "                              'long_summary','windGust','windGustTime',\n",
        "                              'temperatureHigh','temperatureHighTime','temperatureLow',\n",
        "                              'temperatureLowTime','apparentTemperatureHigh','apparentTemperatureHighTime'\n",
        "                              ,'apparentTemperatureLow','apparentTemperatureLowTime','icon','dewPoint','pressure','windBearing','uvIndex','visibility.1',\n",
        "                              'ozone','sunriseTime','sunsetTime','moonPhase','precipIntensityMax',\n",
        "                              'uvIndexTime','temperatureMin','temperatureMinTime','temperatureMax','temperatureMaxTime'\n",
        "                              ,'apparentTemperatureMin','apparentTemperatureMinTime',\n",
        "                              'apparentTemperatureMax','latitude','longitude','apparentTemperatureMaxTime'],axis=1)"
      ],
      "metadata": {
        "id": "mTraE5UfvKeL"
      },
      "execution_count": null,
      "outputs": []
    },
    {
      "cell_type": "code",
      "source": [
        "df['price_per_mile'] = df['price']/df['distance']\n",
        "df.head()"
      ],
      "metadata": {
        "colab": {
          "base_uri": "https://localhost:8080/",
          "height": 202
        },
        "id": "FZk6DudDvaHJ",
        "outputId": "a77eacde-da10-4019-d44e-03f8fb5c96f7"
      },
      "execution_count": null,
      "outputs": [
        {
          "output_type": "execute_result",
          "data": {
            "text/plain": [
              "   hour  day            source    destination cab_type          name  price  \\\n",
              "0     9   16  Haymarket Square  North Station     Lyft        Shared    5.0   \n",
              "1     2   27  Haymarket Square  North Station     Lyft           Lux   11.0   \n",
              "2     1   28  Haymarket Square  North Station     Lyft          Lyft    7.0   \n",
              "3     4   30  Haymarket Square  North Station     Lyft  Lux Black XL   26.0   \n",
              "4     3   29  Haymarket Square  North Station     Lyft       Lyft XL    9.0   \n",
              "\n",
              "   distance  surge_multiplier  temperature  apparentTemperature  \\\n",
              "0      0.44               1.0        42.34                37.12   \n",
              "1      0.44               1.0        43.58                37.35   \n",
              "2      0.44               1.0        38.33                32.93   \n",
              "3      0.44               1.0        34.38                29.63   \n",
              "4      0.44               1.0        37.44                30.88   \n",
              "\n",
              "     short_summary  humidity  windSpeed  visibility  cloudCover  \\\n",
              "0   Mostly Cloudy       0.68       8.66      10.000        0.72   \n",
              "1            Rain       0.94      11.98       4.786        1.00   \n",
              "2           Clear       0.75       7.33      10.000        0.03   \n",
              "3           Clear       0.73       5.28      10.000        0.00   \n",
              "4   Partly Cloudy       0.70       9.14      10.000        0.44   \n",
              "\n",
              "   price_per_mile  \n",
              "0       11.363636  \n",
              "1       25.000000  \n",
              "2       15.909091  \n",
              "3       59.090909  \n",
              "4       20.454545  "
            ],
            "text/html": [
              "\n",
              "  <div id=\"df-58328ec7-7aa0-4d19-be1b-91a4793d7dc1\">\n",
              "    <div class=\"colab-df-container\">\n",
              "      <div>\n",
              "<style scoped>\n",
              "    .dataframe tbody tr th:only-of-type {\n",
              "        vertical-align: middle;\n",
              "    }\n",
              "\n",
              "    .dataframe tbody tr th {\n",
              "        vertical-align: top;\n",
              "    }\n",
              "\n",
              "    .dataframe thead th {\n",
              "        text-align: right;\n",
              "    }\n",
              "</style>\n",
              "<table border=\"1\" class=\"dataframe\">\n",
              "  <thead>\n",
              "    <tr style=\"text-align: right;\">\n",
              "      <th></th>\n",
              "      <th>hour</th>\n",
              "      <th>day</th>\n",
              "      <th>source</th>\n",
              "      <th>destination</th>\n",
              "      <th>cab_type</th>\n",
              "      <th>name</th>\n",
              "      <th>price</th>\n",
              "      <th>distance</th>\n",
              "      <th>surge_multiplier</th>\n",
              "      <th>temperature</th>\n",
              "      <th>apparentTemperature</th>\n",
              "      <th>short_summary</th>\n",
              "      <th>humidity</th>\n",
              "      <th>windSpeed</th>\n",
              "      <th>visibility</th>\n",
              "      <th>cloudCover</th>\n",
              "      <th>price_per_mile</th>\n",
              "    </tr>\n",
              "  </thead>\n",
              "  <tbody>\n",
              "    <tr>\n",
              "      <th>0</th>\n",
              "      <td>9</td>\n",
              "      <td>16</td>\n",
              "      <td>Haymarket Square</td>\n",
              "      <td>North Station</td>\n",
              "      <td>Lyft</td>\n",
              "      <td>Shared</td>\n",
              "      <td>5.0</td>\n",
              "      <td>0.44</td>\n",
              "      <td>1.0</td>\n",
              "      <td>42.34</td>\n",
              "      <td>37.12</td>\n",
              "      <td>Mostly Cloudy</td>\n",
              "      <td>0.68</td>\n",
              "      <td>8.66</td>\n",
              "      <td>10.000</td>\n",
              "      <td>0.72</td>\n",
              "      <td>11.363636</td>\n",
              "    </tr>\n",
              "    <tr>\n",
              "      <th>1</th>\n",
              "      <td>2</td>\n",
              "      <td>27</td>\n",
              "      <td>Haymarket Square</td>\n",
              "      <td>North Station</td>\n",
              "      <td>Lyft</td>\n",
              "      <td>Lux</td>\n",
              "      <td>11.0</td>\n",
              "      <td>0.44</td>\n",
              "      <td>1.0</td>\n",
              "      <td>43.58</td>\n",
              "      <td>37.35</td>\n",
              "      <td>Rain</td>\n",
              "      <td>0.94</td>\n",
              "      <td>11.98</td>\n",
              "      <td>4.786</td>\n",
              "      <td>1.00</td>\n",
              "      <td>25.000000</td>\n",
              "    </tr>\n",
              "    <tr>\n",
              "      <th>2</th>\n",
              "      <td>1</td>\n",
              "      <td>28</td>\n",
              "      <td>Haymarket Square</td>\n",
              "      <td>North Station</td>\n",
              "      <td>Lyft</td>\n",
              "      <td>Lyft</td>\n",
              "      <td>7.0</td>\n",
              "      <td>0.44</td>\n",
              "      <td>1.0</td>\n",
              "      <td>38.33</td>\n",
              "      <td>32.93</td>\n",
              "      <td>Clear</td>\n",
              "      <td>0.75</td>\n",
              "      <td>7.33</td>\n",
              "      <td>10.000</td>\n",
              "      <td>0.03</td>\n",
              "      <td>15.909091</td>\n",
              "    </tr>\n",
              "    <tr>\n",
              "      <th>3</th>\n",
              "      <td>4</td>\n",
              "      <td>30</td>\n",
              "      <td>Haymarket Square</td>\n",
              "      <td>North Station</td>\n",
              "      <td>Lyft</td>\n",
              "      <td>Lux Black XL</td>\n",
              "      <td>26.0</td>\n",
              "      <td>0.44</td>\n",
              "      <td>1.0</td>\n",
              "      <td>34.38</td>\n",
              "      <td>29.63</td>\n",
              "      <td>Clear</td>\n",
              "      <td>0.73</td>\n",
              "      <td>5.28</td>\n",
              "      <td>10.000</td>\n",
              "      <td>0.00</td>\n",
              "      <td>59.090909</td>\n",
              "    </tr>\n",
              "    <tr>\n",
              "      <th>4</th>\n",
              "      <td>3</td>\n",
              "      <td>29</td>\n",
              "      <td>Haymarket Square</td>\n",
              "      <td>North Station</td>\n",
              "      <td>Lyft</td>\n",
              "      <td>Lyft XL</td>\n",
              "      <td>9.0</td>\n",
              "      <td>0.44</td>\n",
              "      <td>1.0</td>\n",
              "      <td>37.44</td>\n",
              "      <td>30.88</td>\n",
              "      <td>Partly Cloudy</td>\n",
              "      <td>0.70</td>\n",
              "      <td>9.14</td>\n",
              "      <td>10.000</td>\n",
              "      <td>0.44</td>\n",
              "      <td>20.454545</td>\n",
              "    </tr>\n",
              "  </tbody>\n",
              "</table>\n",
              "</div>\n",
              "      <button class=\"colab-df-convert\" onclick=\"convertToInteractive('df-58328ec7-7aa0-4d19-be1b-91a4793d7dc1')\"\n",
              "              title=\"Convert this dataframe to an interactive table.\"\n",
              "              style=\"display:none;\">\n",
              "        \n",
              "  <svg xmlns=\"http://www.w3.org/2000/svg\" height=\"24px\"viewBox=\"0 0 24 24\"\n",
              "       width=\"24px\">\n",
              "    <path d=\"M0 0h24v24H0V0z\" fill=\"none\"/>\n",
              "    <path d=\"M18.56 5.44l.94 2.06.94-2.06 2.06-.94-2.06-.94-.94-2.06-.94 2.06-2.06.94zm-11 1L8.5 8.5l.94-2.06 2.06-.94-2.06-.94L8.5 2.5l-.94 2.06-2.06.94zm10 10l.94 2.06.94-2.06 2.06-.94-2.06-.94-.94-2.06-.94 2.06-2.06.94z\"/><path d=\"M17.41 7.96l-1.37-1.37c-.4-.4-.92-.59-1.43-.59-.52 0-1.04.2-1.43.59L10.3 9.45l-7.72 7.72c-.78.78-.78 2.05 0 2.83L4 21.41c.39.39.9.59 1.41.59.51 0 1.02-.2 1.41-.59l7.78-7.78 2.81-2.81c.8-.78.8-2.07 0-2.86zM5.41 20L4 18.59l7.72-7.72 1.47 1.35L5.41 20z\"/>\n",
              "  </svg>\n",
              "      </button>\n",
              "      \n",
              "  <style>\n",
              "    .colab-df-container {\n",
              "      display:flex;\n",
              "      flex-wrap:wrap;\n",
              "      gap: 12px;\n",
              "    }\n",
              "\n",
              "    .colab-df-convert {\n",
              "      background-color: #E8F0FE;\n",
              "      border: none;\n",
              "      border-radius: 50%;\n",
              "      cursor: pointer;\n",
              "      display: none;\n",
              "      fill: #1967D2;\n",
              "      height: 32px;\n",
              "      padding: 0 0 0 0;\n",
              "      width: 32px;\n",
              "    }\n",
              "\n",
              "    .colab-df-convert:hover {\n",
              "      background-color: #E2EBFA;\n",
              "      box-shadow: 0px 1px 2px rgba(60, 64, 67, 0.3), 0px 1px 3px 1px rgba(60, 64, 67, 0.15);\n",
              "      fill: #174EA6;\n",
              "    }\n",
              "\n",
              "    [theme=dark] .colab-df-convert {\n",
              "      background-color: #3B4455;\n",
              "      fill: #D2E3FC;\n",
              "    }\n",
              "\n",
              "    [theme=dark] .colab-df-convert:hover {\n",
              "      background-color: #434B5C;\n",
              "      box-shadow: 0px 1px 3px 1px rgba(0, 0, 0, 0.15);\n",
              "      filter: drop-shadow(0px 1px 2px rgba(0, 0, 0, 0.3));\n",
              "      fill: #FFFFFF;\n",
              "    }\n",
              "  </style>\n",
              "\n",
              "      <script>\n",
              "        const buttonEl =\n",
              "          document.querySelector('#df-58328ec7-7aa0-4d19-be1b-91a4793d7dc1 button.colab-df-convert');\n",
              "        buttonEl.style.display =\n",
              "          google.colab.kernel.accessAllowed ? 'block' : 'none';\n",
              "\n",
              "        async function convertToInteractive(key) {\n",
              "          const element = document.querySelector('#df-58328ec7-7aa0-4d19-be1b-91a4793d7dc1');\n",
              "          const dataTable =\n",
              "            await google.colab.kernel.invokeFunction('convertToInteractive',\n",
              "                                                     [key], {});\n",
              "          if (!dataTable) return;\n",
              "\n",
              "          const docLinkHtml = 'Like what you see? Visit the ' +\n",
              "            '<a target=\"_blank\" href=https://colab.research.google.com/notebooks/data_table.ipynb>data table notebook</a>'\n",
              "            + ' to learn more about interactive tables.';\n",
              "          element.innerHTML = '';\n",
              "          dataTable['output_type'] = 'display_data';\n",
              "          await google.colab.output.renderOutput(dataTable, element);\n",
              "          const docLink = document.createElement('div');\n",
              "          docLink.innerHTML = docLinkHtml;\n",
              "          element.appendChild(docLink);\n",
              "        }\n",
              "      </script>\n",
              "    </div>\n",
              "  </div>\n",
              "  "
            ]
          },
          "metadata": {},
          "execution_count": 62
        }
      ]
    },
    {
      "cell_type": "code",
      "source": [
        "from sklearn.linear_model import LinearRegression\n",
        "from sklearn.model_selection import train_test_split, cross_val_score\n",
        "from sklearn.metrics import mean_squared_error\n",
        "from sklearn.tree import DecisionTreeRegressor\n",
        "from sklearn.preprocessing import SplineTransformer\n",
        "import time\n",
        "\n",
        "start_time = time.time()\n",
        "y = df['price']\n",
        "categoricalFeaturesList = ['day','source','destination','cab_type','name','short_summary']\n",
        "X_num = df[['hour','distance','surge_multiplier','temperature','apparentTemperature','humidity','windSpeed','visibility','cloudCover','price_per_mile']]\n",
        "\n",
        "categoricalVarTransformer = OneHotEncoder(sparse = False)\n",
        "convertedCategoricalVars = categoricalVarTransformer.fit_transform(df[categoricalFeaturesList])\n",
        "\n",
        "X_all = np.hstack([X_num, convertedCategoricalVars])\n",
        "\n",
        "# Split the data into training and test sets\n",
        "X_train, X_test, y_train, y_test = train_test_split(X_all, y, test_size=0.2, random_state=42)\n",
        "\n",
        "# Fit a linear regression model to the training data\n",
        "lr_model = LinearRegression()\n",
        "lr_model.fit(X_train, y_train)\n",
        "\n",
        "# Use cross-validation to evaluate the model on the training data\n",
        "cv_scores = cross_val_score(lr_model, X_train, y_train, cv=5, scoring='neg_mean_squared_error')\n",
        "cv_mse = -1 * cv_scores.mean()\n",
        "print(\"Cross-validation | Linear Regression | Mean Squared Error:\", cv_mse)\n",
        "\n",
        "end_time = time.time()\n",
        "elapsed_time = end_time - start_time\n",
        "\n",
        "\n",
        "print(f\"The code took {elapsed_time:.2f} seconds to run.\")"
      ],
      "metadata": {
        "colab": {
          "base_uri": "https://localhost:8080/"
        },
        "id": "v5Zoj23NzGZc",
        "outputId": "ce8a873e-a5f1-4105-f620-806f3e0e7602"
      },
      "execution_count": null,
      "outputs": [
        {
          "output_type": "stream",
          "name": "stderr",
          "text": [
            "/usr/local/lib/python3.9/dist-packages/sklearn/preprocessing/_encoders.py:868: FutureWarning: `sparse` was renamed to `sparse_output` in version 1.2 and will be removed in 1.4. `sparse_output` is ignored unless you leave `sparse` to its default value.\n",
            "  warnings.warn(\n"
          ]
        },
        {
          "output_type": "stream",
          "name": "stdout",
          "text": [
            "Cross-validation | Linear Regression | Mean Squared Error: 6.219994277414509\n",
            "The code took 28.66 seconds to run.\n"
          ]
        }
      ]
    },
    {
      "cell_type": "code",
      "source": [
        "from sklearn.linear_model import LassoLarsCV\n",
        "from sklearn.preprocessing import StandardScaler\n",
        "import time\n",
        "\n",
        "start_time = time.time()\n",
        "y = df['price']\n",
        "categoricalFeaturesList = ['day','source','destination','cab_type','name','short_summary']\n",
        "X_num = df[['hour','distance','surge_multiplier','temperature','apparentTemperature','humidity','windSpeed','visibility','cloudCover','price_per_mile']]\n",
        "\n",
        "categoricalVarTransformer = OneHotEncoder(sparse = False)\n",
        "convertedCategoricalVars = categoricalVarTransformer.fit_transform(df[categoricalFeaturesList])\n",
        "\n",
        "X_all = np.hstack([X_num, convertedCategoricalVars])\n",
        "\n",
        "standardizeVarTransformer = StandardScaler()\n",
        "X_standardized = standardizeVarTransformer.fit_transform(X_all)\n",
        "\n",
        "X_train, X_test, y_train, y_test = train_test_split(X_standardized, y, test_size=0.2, random_state=42)\n",
        "\n",
        "# Fit a LassoLarsCV model to the data using AIC-based model selection\n",
        "lars_model = LassoLarsCV(max_iter=100, eps=0.0001, n_jobs=-1)\n",
        "lars_model.fit(X_train, y_train)\n",
        "\n",
        "cv_scores_lass = cross_val_score(lars_model, X_train, y_train, cv=5, scoring='neg_mean_squared_error')\n",
        "cv_mse_lass = -1 * cv_scores_lass.mean()\n",
        "print(\"Cross-validation | Lasso from LARS with Shrinkage Parameter:\",lars_model.alpha_,\" | Mean Squared Error:\", cv_mse_lass)\n",
        "end_time = time.time()\n",
        "elapsed_time = end_time - start_time\n",
        "\n",
        "\n",
        "print(f\"The code took {elapsed_time:.2f} seconds to run.\")"
      ],
      "metadata": {
        "colab": {
          "base_uri": "https://localhost:8080/"
        },
        "id": "Px5fEXp-E7Gd",
        "outputId": "8f7dd9fe-e534-43ce-e393-02bb5b4f9db1"
      },
      "execution_count": null,
      "outputs": [
        {
          "output_type": "stream",
          "name": "stderr",
          "text": [
            "/usr/local/lib/python3.9/dist-packages/sklearn/preprocessing/_encoders.py:868: FutureWarning: `sparse` was renamed to `sparse_output` in version 1.2 and will be removed in 1.4. `sparse_output` is ignored unless you leave `sparse` to its default value.\n",
            "  warnings.warn(\n"
          ]
        },
        {
          "output_type": "stream",
          "name": "stdout",
          "text": [
            "Cross-validation | Lasso from LARS with Shrinkage Parameter: 0.00025430621919601354  | Mean Squared Error: 6.220017451778323\n",
            "The code took 50.35 seconds to run.\n"
          ]
        }
      ]
    },
    {
      "cell_type": "code",
      "source": [
        "import time\n",
        "\n",
        "start_time = time.time()\n",
        "y = df['price']\n",
        "categoricalFeaturesList = ['day','source','destination','cab_type','name','short_summary']\n",
        "X_num = df[['hour','distance','surge_multiplier','temperature','apparentTemperature','humidity','windSpeed','visibility','cloudCover','price_per_mile']]\n",
        "\n",
        "categoricalVarTransformer = OneHotEncoder(sparse = False)\n",
        "convertedCategoricalVars = categoricalVarTransformer.fit_transform(df[categoricalFeaturesList])\n",
        "\n",
        "X_all = np.hstack([X_num, convertedCategoricalVars])\n",
        "\n",
        "regTree = DecisionTreeRegressor(min_samples_leaf = 5)\n",
        "X_train, X_test, y_train, y_test = train_test_split(X_all, y, test_size=0.2, random_state=42)\n",
        "\n",
        "regTree.fit(X_train, y_train)\n",
        "\n",
        "cv_scores_regTree = cross_val_score(regTree, X_train, y_train, cv=5, scoring='neg_mean_squared_error')\n",
        "cv_mse_regTree = -1 * cv_scores_regTree.mean()\n",
        "print(\"Cross-validation | Regression Tree | Mean Squared Error:\", cv_mse_regTree)\n",
        "end_time = time.time()\n",
        "elapsed_time = end_time - start_time\n",
        "\n",
        "\n",
        "print(f\"The code took {elapsed_time:.2f} seconds to run.\")"
      ],
      "metadata": {
        "colab": {
          "base_uri": "https://localhost:8080/"
        },
        "id": "Js_o_VpcFMXA",
        "outputId": "c9d6ec31-b971-4c40-b0a6-585416e5e4ae"
      },
      "execution_count": null,
      "outputs": [
        {
          "output_type": "stream",
          "name": "stderr",
          "text": [
            "/usr/local/lib/python3.9/dist-packages/sklearn/preprocessing/_encoders.py:868: FutureWarning: `sparse` was renamed to `sparse_output` in version 1.2 and will be removed in 1.4. `sparse_output` is ignored unless you leave `sparse` to its default value.\n",
            "  warnings.warn(\n"
          ]
        },
        {
          "output_type": "stream",
          "name": "stdout",
          "text": [
            "Cross-validation | Regression Tree | Mean Squared Error: 0.05675157956332193\n",
            "The code took 40.13 seconds to run.\n"
          ]
        }
      ]
    },
    {
      "cell_type": "code",
      "source": [
        "import time\n",
        "\n",
        "\n",
        "start_time = time.time()\n",
        "splineFeaturesList = ['hour','surge_multiplier','distance','apparentTemperature','price_per_mile']\n",
        "DataSplineTransformer = SplineTransformer(n_knots = 5, degree = 3, knots = \"quantile\")\n",
        "convertedSplineFeatures = DataSplineTransformer.fit_transform(df[splineFeaturesList])\n",
        "\n",
        "X_num = df[['temperature','humidity','windSpeed','visibility','cloudCover',]]\n",
        "\n",
        "categoricalFeaturesList = ['day','source','destination','cab_type','name','short_summary']\n",
        "\n",
        "categoricalVarTransformer = OneHotEncoder(sparse = False)\n",
        "convertedCategoricalVars = categoricalVarTransformer.fit_transform(df[categoricalFeaturesList])\n",
        "\n",
        "X_all = np.hstack([X_num, convertedSplineFeatures, convertedCategoricalVars])\n",
        "\n",
        "# Split the data into training and test sets\n",
        "X_train, X_test, y_train, y_test = train_test_split(X_all, y, test_size=0.2, random_state=42)\n",
        "\n",
        "# Fit a linear regression model to the training data\n",
        "lr_model_spline = LinearRegression()\n",
        "lr_model_spline.fit(X_train, y_train)\n",
        "\n",
        "# Use cross-validation to evaluate the model on the training data\n",
        "cv_scores_lr_spline = cross_val_score(lr_model_spline, X_train, y_train, cv=5, scoring='neg_mean_squared_error')\n",
        "cv_mse_lr_spline = -1 * cv_scores_lr_spline.mean()\n",
        "print(\"Cross-validation | Linear Regression with Spline Vars =\",splineFeaturesList ,\" | Mean Squared Error:\", cv_mse_lr_spline)\n",
        "end_time = time.time()\n",
        "elapsed_time = end_time - start_time\n",
        "\n",
        "\n",
        "print(f\"The code took {elapsed_time:.2f} seconds to run.\")"
      ],
      "metadata": {
        "colab": {
          "base_uri": "https://localhost:8080/"
        },
        "id": "kqZSgCvADdO0",
        "outputId": "52c42054-b723-479b-a521-8b6c4820cfb3"
      },
      "execution_count": null,
      "outputs": [
        {
          "output_type": "stream",
          "name": "stderr",
          "text": [
            "/usr/local/lib/python3.9/dist-packages/sklearn/preprocessing/_encoders.py:868: FutureWarning: `sparse` was renamed to `sparse_output` in version 1.2 and will be removed in 1.4. `sparse_output` is ignored unless you leave `sparse` to its default value.\n",
            "  warnings.warn(\n"
          ]
        },
        {
          "output_type": "stream",
          "name": "stdout",
          "text": [
            "Cross-validation | Linear Regression with Spline Vars = ['hour', 'surge_multiplier', 'distance', 'apparentTemperature', 'price_per_mile']  | Mean Squared Error: 3.179434736635278\n",
            "The code took 39.38 seconds to run.\n"
          ]
        }
      ]
    },
    {
      "cell_type": "code",
      "source": [
        "from sklearn.ensemble import RandomForestRegressor\n",
        "import time\n",
        "\n",
        "start_time = time.time()\n",
        "y = df['price']\n",
        "categoricalFeaturesList = ['day','source','destination','cab_type','name','short_summary']\n",
        "X_num = df[['hour','distance','surge_multiplier','temperature','apparentTemperature','humidity','windSpeed','visibility','cloudCover','price_per_mile']]\n",
        "\n",
        "categoricalVarTransformer = OneHotEncoder(sparse = False)\n",
        "convertedCategoricalVars = categoricalVarTransformer.fit_transform(df[categoricalFeaturesList])\n",
        "\n",
        "X_all = np.hstack([X_num, convertedCategoricalVars])\n",
        "\n",
        "# Split the data into training and test sets\n",
        "X_train, X_test, y_train, y_test = train_test_split(X_all, y, test_size=0.2, random_state=42)\n",
        "\n",
        "randomForestReg = RandomForestRegressor(n_estimators = 10)\n",
        "randomForestReg.fit(X_train, y_train)\n",
        "\n",
        "cv_scores_ranfor = cross_val_score(randomForestReg, X_train, y_train, cv=5, scoring='neg_mean_squared_error')\n",
        "cv_mse_ranfor = -1 * cv_scores_ranfor.mean()\n",
        "\n",
        "print(\"Cross-validation | Random Forest Regression with 10 trees | Mean Squared Error:\", cv_mse_ranfor)\n",
        "end_time = time.time()\n",
        "elapsed_time = end_time - start_time\n",
        "\n",
        "\n",
        "print(f\"The code took {elapsed_time:.2f} seconds to run.\")"
      ],
      "metadata": {
        "colab": {
          "base_uri": "https://localhost:8080/"
        },
        "id": "JfUoPscMG77w",
        "outputId": "06487323-4fa1-4340-9d9c-d09c38ba67ea"
      },
      "execution_count": null,
      "outputs": [
        {
          "output_type": "stream",
          "name": "stderr",
          "text": [
            "/usr/local/lib/python3.9/dist-packages/sklearn/preprocessing/_encoders.py:868: FutureWarning: `sparse` was renamed to `sparse_output` in version 1.2 and will be removed in 1.4. `sparse_output` is ignored unless you leave `sparse` to its default value.\n",
            "  warnings.warn(\n"
          ]
        },
        {
          "output_type": "stream",
          "name": "stdout",
          "text": [
            "Cross-validation | Random Forest Regression with 10 trees | Mean Squared Error: 0.02934189801981072\n",
            "The code took 237.38 seconds to run.\n"
          ]
        }
      ]
    },
    {
      "cell_type": "code",
      "source": [
        "from sklearn.ensemble import RandomForestRegressor\n",
        "import time\n",
        "\n",
        "\n",
        "start_time = time.time()\n",
        "y = df['price']\n",
        "categoricalFeaturesList = ['day','source','destination','cab_type','name','short_summary']\n",
        "X_num = df[['hour','distance','surge_multiplier','temperature','apparentTemperature','humidity','windSpeed','visibility','cloudCover','price_per_mile']]\n",
        "\n",
        "categoricalVarTransformer = OneHotEncoder(sparse = False)\n",
        "convertedCategoricalVars = categoricalVarTransformer.fit_transform(df[categoricalFeaturesList])\n",
        "\n",
        "X_all = np.hstack([X_num, convertedCategoricalVars])\n",
        "\n",
        "# Split the data into training and test sets\n",
        "X_train, X_test, y_train, y_test = train_test_split(X_all, y, test_size=0.2, random_state=42)\n",
        "\n",
        "randomForestReg = RandomForestRegressor(n_estimators = 30)\n",
        "randomForestReg.fit(X_train, y_train)\n",
        "\n",
        "cv_scores_ranfor = cross_val_score(randomForestReg, X_train, y_train, cv=5, scoring='neg_mean_squared_error')\n",
        "cv_mse_ranfor = -1 * cv_scores_ranfor.mean()\n",
        "\n",
        "print(\"Cross-validation | Random Forest Regression with 30 trees | Mean Squared Error:\", cv_mse_ranfor)\n",
        "end_time = time.time()\n",
        "elapsed_time = end_time - start_time\n",
        "\n",
        "\n",
        "print(f\"The code took {elapsed_time:.2f} seconds to run.\")"
      ],
      "metadata": {
        "colab": {
          "base_uri": "https://localhost:8080/"
        },
        "id": "aGRlK3t3dSO6",
        "outputId": "daa63e7a-a799-4909-c135-ecb7b3123c42"
      },
      "execution_count": null,
      "outputs": [
        {
          "output_type": "stream",
          "name": "stderr",
          "text": [
            "/usr/local/lib/python3.9/dist-packages/sklearn/preprocessing/_encoders.py:868: FutureWarning: `sparse` was renamed to `sparse_output` in version 1.2 and will be removed in 1.4. `sparse_output` is ignored unless you leave `sparse` to its default value.\n",
            "  warnings.warn(\n"
          ]
        },
        {
          "output_type": "stream",
          "name": "stdout",
          "text": [
            "Cross-validation | Random Forest Regression with 30 trees | Mean Squared Error: 0.0236230381295251\n",
            "The code took 753.58 seconds to run.\n"
          ]
        }
      ]
    },
    {
      "cell_type": "code",
      "source": [
        "from sklearn.ensemble import AdaBoostRegressor\n",
        "from sklearn.tree import DecisionTreeRegressor\n",
        "import time\n",
        "\n",
        "start_time = time.time()\n",
        "\n",
        "y = df['price']\n",
        "categoricalFeaturesList = ['day','source','destination','cab_type','name','short_summary']\n",
        "X_num = df[['hour','distance','surge_multiplier','temperature','apparentTemperature','humidity','windSpeed','visibility','cloudCover','price_per_mile']]\n",
        "\n",
        "categoricalVarTransformer = OneHotEncoder(sparse = False)\n",
        "convertedCategoricalVars = categoricalVarTransformer.fit_transform(df[categoricalFeaturesList])\n",
        "\n",
        "X_all = np.hstack([X_num, convertedCategoricalVars])\n",
        "\n",
        "# Split the data into training and test sets\n",
        "X_train, X_test, y_train, y_test = train_test_split(X_all, y, test_size=0.2, random_state=42)\n",
        "\n",
        "regTreeADA = DecisionTreeRegressor(min_samples_leaf = 5)\n",
        "\n",
        "AdaBoostedTree = AdaBoostRegressor(estimator = regTreeADA, n_estimators = 10, learning_rate = 0.5)\n",
        "AdaBoostedTree.fit(X_train, y_train)\n",
        "\n",
        "cv_scores_ADA = cross_val_score(AdaBoostedTree, X_train, y_train, cv=5, scoring='neg_mean_squared_error')\n",
        "cv_mse_ADA = -1 * cv_scores_ADA.mean()\n",
        "\n",
        "print(\"Cross-validation | ADA Boosting with Decision Tree Regressor with learning rate = 0.5, Estimators = 10, min_samples_leaf = 5 | Mean Squared Error:\", cv_mse_ADA)\n",
        "\n",
        "end_time = time.time()\n",
        "elapsed_time = end_time - start_time\n",
        "\n",
        "\n",
        "print(f\"The code took {elapsed_time:.2f} seconds to run.\")"
      ],
      "metadata": {
        "colab": {
          "base_uri": "https://localhost:8080/"
        },
        "id": "u_6ku7uCI4Rq",
        "outputId": "19a6e7ab-5dc2-4da8-d240-a69943cc69b8"
      },
      "execution_count": null,
      "outputs": [
        {
          "output_type": "stream",
          "name": "stderr",
          "text": [
            "/usr/local/lib/python3.9/dist-packages/sklearn/preprocessing/_encoders.py:868: FutureWarning: `sparse` was renamed to `sparse_output` in version 1.2 and will be removed in 1.4. `sparse_output` is ignored unless you leave `sparse` to its default value.\n",
            "  warnings.warn(\n"
          ]
        },
        {
          "output_type": "stream",
          "name": "stdout",
          "text": [
            "Cross-validation | ADA Boosting with Decision Tree Regressor with learning rate = 0.5, Estimators = 10, min_samples_leaf = 5 | Mean Squared Error: 0.03027440654800597\n",
            "The code took 437.58 seconds to run.\n"
          ]
        }
      ]
    },
    {
      "cell_type": "code",
      "source": [
        "from sklearn.ensemble import AdaBoostRegressor\n",
        "from sklearn.tree import DecisionTreeRegressor\n",
        "import time\n",
        "\n",
        "\n",
        "start_time = time.time()\n",
        "y = df['price']\n",
        "categoricalFeaturesList = ['day','source','destination','cab_type','name','short_summary']\n",
        "X_num = df[['hour','distance','surge_multiplier','temperature','apparentTemperature','humidity','windSpeed','visibility','cloudCover','price_per_mile']]\n",
        "\n",
        "categoricalVarTransformer = OneHotEncoder(sparse = False)\n",
        "convertedCategoricalVars = categoricalVarTransformer.fit_transform(df[categoricalFeaturesList])\n",
        "\n",
        "X_all = np.hstack([X_num, convertedCategoricalVars])\n",
        "\n",
        "# Split the data into training and test sets\n",
        "X_train, X_test, y_train, y_test = train_test_split(X_all, y, test_size=0.2, random_state=42)\n",
        "\n",
        "regTreeADA = DecisionTreeRegressor(min_samples_leaf = 5)\n",
        "\n",
        "AdaBoostedTree = AdaBoostRegressor(estimator = regTreeADA, n_estimators = 30, learning_rate = 0.5)\n",
        "AdaBoostedTree.fit(X_train, y_train)\n",
        "\n",
        "cv_scores_ADA = cross_val_score(AdaBoostedTree, X_train, y_train, cv=5, scoring='neg_mean_squared_error')\n",
        "cv_mse_ADA = -1 * cv_scores_ADA.mean()\n",
        "\n",
        "print(\"Cross-validation | ADA Boosting with Decision Tree Regressor with learning rate = 0.5, Estimators = 30, max_depth = 5 | Mean Squared Error:\", cv_mse_ADA)\n",
        "end_time = time.time()\n",
        "elapsed_time = end_time - start_time\n",
        "\n",
        "\n",
        "print(f\"The code took {elapsed_time:.2f} seconds to run.\")"
      ],
      "metadata": {
        "colab": {
          "base_uri": "https://localhost:8080/"
        },
        "id": "hSgbRAD6WVfF",
        "outputId": "2ecfe632-abcf-402f-f486-3f4bbc1c240d"
      },
      "execution_count": null,
      "outputs": [
        {
          "output_type": "stream",
          "name": "stderr",
          "text": [
            "/usr/local/lib/python3.9/dist-packages/sklearn/preprocessing/_encoders.py:868: FutureWarning: `sparse` was renamed to `sparse_output` in version 1.2 and will be removed in 1.4. `sparse_output` is ignored unless you leave `sparse` to its default value.\n",
            "  warnings.warn(\n"
          ]
        },
        {
          "output_type": "stream",
          "name": "stdout",
          "text": [
            "Cross-validation | ADA Boosting with Decision Tree Regressor with learning rate = 0.5, Estimators = 30, max_depth = 5 | Mean Squared Error: 0.03918432381361202\n",
            "The code took 1437.72 seconds to run.\n"
          ]
        }
      ]
    },
    {
      "cell_type": "code",
      "source": [
        "from sklearn.ensemble import GradientBoostingRegressor\n",
        "import time\n",
        "\n",
        "\n",
        "start_time = time.time()\n",
        "\n",
        "y = df['price']\n",
        "categoricalFeaturesList = ['day','source','destination','cab_type','name','short_summary']\n",
        "X_num = df[['hour','distance','surge_multiplier','temperature','apparentTemperature','humidity','windSpeed','visibility','cloudCover','price_per_mile']]\n",
        "\n",
        "categoricalVarTransformer = OneHotEncoder(sparse = False)\n",
        "convertedCategoricalVars = categoricalVarTransformer.fit_transform(df[categoricalFeaturesList])\n",
        "\n",
        "X_all = np.hstack([X_num, convertedCategoricalVars])\n",
        "\n",
        "# Split the data into training and test sets\n",
        "X_train, X_test, y_train, y_test = train_test_split(X_all, y, test_size=0.2, random_state=42)\n",
        "\n",
        "gradientBoostingReg = GradientBoostingRegressor(loss = \"squared_error\", n_estimators = 10, learning_rate = 0.3, subsample = 0.5)\n",
        "gradientBoostingReg.fit(X_train, y_train)\n",
        "\n",
        "cv_scores_GB = cross_val_score(gradientBoostingReg, X_train, y_train, cv=5, scoring='neg_mean_squared_error')\n",
        "cv_mse_GB = -1 * cv_scores_GB.mean()\n",
        "\n",
        "print(\"Cross-validation | Gradient Boosting withLoss Function 'squared_error' with learning rate = 0.3, Estimators = 100, sub_sampling = 50% | Mean Squared Error:\", cv_mse_GB)\n",
        "end_time = time.time()\n",
        "elapsed_time = end_time - start_time\n",
        "\n",
        "\n",
        "print(f\"The code took {elapsed_time:.2f} seconds to run.\")"
      ],
      "metadata": {
        "colab": {
          "base_uri": "https://localhost:8080/"
        },
        "id": "GpCBxUCHRZ87",
        "outputId": "cfd9768a-0697-4bf5-d4cd-ae72fedebe50"
      },
      "execution_count": null,
      "outputs": [
        {
          "output_type": "stream",
          "name": "stderr",
          "text": [
            "/usr/local/lib/python3.9/dist-packages/sklearn/preprocessing/_encoders.py:868: FutureWarning: `sparse` was renamed to `sparse_output` in version 1.2 and will be removed in 1.4. `sparse_output` is ignored unless you leave `sparse` to its default value.\n",
            "  warnings.warn(\n"
          ]
        },
        {
          "output_type": "stream",
          "name": "stdout",
          "text": [
            "Cross-validation | Gradient Boosting withLoss Function 'squared_error' with learning rate = 0.3, Estimators = 100, sub_sampling = 50% | Mean Squared Error: 4.247260190913337\n",
            "The code took 69.43 seconds to run.\n"
          ]
        }
      ]
    },
    {
      "cell_type": "code",
      "source": [
        "from sklearn.ensemble import RandomForestRegressor\n",
        "import time\n",
        "from sklearn.metrics import r2_score\n",
        "\n",
        "\n",
        "\n",
        "y = df['price']\n",
        "categoricalFeaturesList = ['day','source','destination','cab_type','name','short_summary']\n",
        "X_num = df[['hour','distance','surge_multiplier','temperature','apparentTemperature','humidity','windSpeed','visibility','cloudCover','price_per_mile']]\n",
        "\n",
        "categoricalVarTransformer = OneHotEncoder(sparse = False)\n",
        "convertedCategoricalVars = categoricalVarTransformer.fit_transform(df[categoricalFeaturesList])\n",
        "\n",
        "X_all = np.hstack([X_num, convertedCategoricalVars])\n",
        "\n",
        "# Split the data into training and test sets\n",
        "X_train, X_test, y_train, y_test = train_test_split(X_all, y, test_size=0.2, random_state=42)\n",
        "\n",
        "randomForestReg_test = RandomForestRegressor(n_estimators = 30)\n",
        "randomForestReg_test.fit(X_train, y_train)\n",
        "\n",
        "cv_scores_ranfor = cross_val_score(randomForestReg_test, X_train, y_train, cv=5, scoring='neg_mean_squared_error')\n",
        "cv_mse_ranfor = -1 * cv_scores_ranfor.mean()\n",
        "\n",
        "print(\"\\nCross-validation | Random Forest Regression with 30 trees | Mean Squared Error:\", cv_mse_ranfor)\n",
        "\n",
        "y_pred = randomForestReg_test.predict(X_test)\n",
        "\n",
        "score = r2_score(y_test, y_pred)\n",
        "print(\"\\nR-squared score:\", score)\n",
        "\n"
      ],
      "metadata": {
        "colab": {
          "base_uri": "https://localhost:8080/"
        },
        "id": "rRDQoLgi4Pdi",
        "outputId": "ea7fd3fc-b5d6-41e5-d14b-592c56a2d80b"
      },
      "execution_count": null,
      "outputs": [
        {
          "output_type": "stream",
          "name": "stderr",
          "text": [
            "/usr/local/lib/python3.9/dist-packages/sklearn/preprocessing/_encoders.py:868: FutureWarning: `sparse` was renamed to `sparse_output` in version 1.2 and will be removed in 1.4. `sparse_output` is ignored unless you leave `sparse` to its default value.\n",
            "  warnings.warn(\n"
          ]
        },
        {
          "output_type": "stream",
          "name": "stdout",
          "text": [
            "\n",
            "Cross-validation | Random Forest Regression with 30 trees | Mean Squared Error: 0.024810283139591705\n",
            "\n",
            "R-squared score: 0.9997938383046466\n"
          ]
        }
      ]
    }
  ]
}